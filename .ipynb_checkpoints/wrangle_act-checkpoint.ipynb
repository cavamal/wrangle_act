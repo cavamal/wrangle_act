{
 "cells": [
  {
   "cell_type": "code",
   "execution_count": 1,
   "metadata": {},
   "outputs": [],
   "source": [
    "import tweepy\n",
    "import pandas as pd\n",
    "import numpy as np\n",
    "import requests\n",
    "import json\n",
    "from timeit import default_timer as timer\n",
    "import re\n",
    "\n",
    "import matplotlib\n",
    "import matplotlib.pyplot as plt\n",
    "\n",
    "%matplotlib inline"
   ]
  },
  {
   "cell_type": "markdown",
   "metadata": {},
   "source": [
    "## Loading / Scraping Data"
   ]
  },
  {
   "cell_type": "code",
   "execution_count": 2,
   "metadata": {},
   "outputs": [],
   "source": [
    "#grab archive from local files\n",
    "tweets_archive = pd.read_csv('data/twitter-archive-enhanced-2.csv')"
   ]
  },
  {
   "cell_type": "code",
   "execution_count": 3,
   "metadata": {},
   "outputs": [],
   "source": [
    "#grab TSV for predictions from url\n",
    "url = \"https://d17h27t6h515a5.cloudfront.net/topher/2017/August/599fd2ad_image-predictions/image-predictions.tsv\"\n",
    "dog_predictions = pd.read_csv(url,sep='\\t')"
   ]
  },
  {
   "cell_type": "code",
   "execution_count": 4,
   "metadata": {},
   "outputs": [],
   "source": [
    "#grab tweets based on tweet id from tweepy\n",
    "#lifted lovingly from https://www.promptcloud.com/blog/scrape-twitter-data-using-python-r\n",
    "with open('twitter_credentials.json') as cred_data:\n",
    "    info = json.load(cred_data)\n",
    "    consumer_key = info['CONSUMER_KEY']\n",
    "    consumer_secret = info['CONSUMER_SECRET']\n",
    "    access_key = info['ACCESS_KEY']\n",
    "    access_secret = info['ACCESS_SECRET']"
   ]
  },
  {
   "cell_type": "code",
   "execution_count": 5,
   "metadata": {},
   "outputs": [],
   "source": [
    "auth = tweepy.OAuthHandler(consumer_key,consumer_secret)\n",
    "auth.set_access_token(access_key, access_secret)\n",
    "\n",
    "api = tweepy.API(auth,wait_on_rate_limit=True)"
   ]
  },
  {
   "cell_type": "code",
   "execution_count": 6,
   "metadata": {},
   "outputs": [],
   "source": [
    "tweet_ids = tweets_archive.tweet_id.values"
   ]
  },
  {
   "cell_type": "code",
   "execution_count": 7,
   "metadata": {},
   "outputs": [
    {
     "ename": "SyntaxError",
     "evalue": "invalid syntax (<ipython-input-7-bead3ff01bdd>, line 4)",
     "output_type": "error",
     "traceback": [
      "\u001b[1;36m  File \u001b[1;32m\"<ipython-input-7-bead3ff01bdd>\"\u001b[1;36m, line \u001b[1;32m4\u001b[0m\n\u001b[1;33m    if == 0\u001b[0m\n\u001b[1;37m        ^\u001b[0m\n\u001b[1;31mSyntaxError\u001b[0m\u001b[1;31m:\u001b[0m invalid syntax\n"
     ]
    }
   ],
   "source": [
    "#call tweepy/twitter API for additional data based on tweet ids\n",
    "#this takes 20-30min - avoid running\n",
    "#comment out below to run again\n",
    "if == 0\n",
    "\n",
    "fail_dict = {}\n",
    "extended_data = []\n",
    "start = timer()\n",
    "with open('tweet_json.txt','w') as outfile:\n",
    "    for tweet_id in tweet_ids:\n",
    "        try: \n",
    "            tweet = api.get_status(tweet_id,tweet_mode='extended')\n",
    "            print(\"Got\")\n",
    "            json.dump(tweet._json,outfile)\n",
    "            outfile.write('\\n')\n",
    "        except tweepy.TweepError as e:\n",
    "            print(\"Fail\")\n",
    "            fail_dict[tweet_id] = e\n",
    "            pass\n",
    "end = timer()\n",
    "print(end-start)\n",
    "    "
   ]
  },
  {
   "cell_type": "code",
   "execution_count": 8,
   "metadata": {},
   "outputs": [
    {
     "ename": "NameError",
     "evalue": "name 'fail_dict' is not defined",
     "output_type": "error",
     "traceback": [
      "\u001b[1;31m---------------------------------------------------------------------------\u001b[0m",
      "\u001b[1;31mNameError\u001b[0m                                 Traceback (most recent call last)",
      "\u001b[1;32m<ipython-input-8-dc6f29a86f6c>\u001b[0m in \u001b[0;36m<module>\u001b[1;34m\u001b[0m\n\u001b[1;32m----> 1\u001b[1;33m \u001b[0mlen\u001b[0m\u001b[1;33m(\u001b[0m\u001b[0mfail_dict\u001b[0m\u001b[1;33m)\u001b[0m\u001b[1;33m,\u001b[0m \u001b[0mlen\u001b[0m\u001b[1;33m(\u001b[0m\u001b[0mtweet_ids\u001b[0m\u001b[1;33m)\u001b[0m\u001b[1;33m\u001b[0m\u001b[0m\n\u001b[0m",
      "\u001b[1;31mNameError\u001b[0m: name 'fail_dict' is not defined"
     ]
    }
   ],
   "source": [
    "len(fail_dict), len(tweet_ids)"
   ]
  },
  {
   "cell_type": "code",
   "execution_count": 9,
   "metadata": {},
   "outputs": [
    {
     "ename": "NameError",
     "evalue": "name 'fail_dict' is not defined",
     "output_type": "error",
     "traceback": [
      "\u001b[1;31m---------------------------------------------------------------------------\u001b[0m",
      "\u001b[1;31mNameError\u001b[0m                                 Traceback (most recent call last)",
      "\u001b[1;32m<ipython-input-9-b359f23d5239>\u001b[0m in \u001b[0;36m<module>\u001b[1;34m\u001b[0m\n\u001b[0;32m      1\u001b[0m \u001b[1;31m#saving fail_dict for later, because scraping takes forever\u001b[0m\u001b[1;33m\u001b[0m\u001b[1;33m\u001b[0m\u001b[0m\n\u001b[1;32m----> 2\u001b[1;33m \u001b[0mfail_dicts\u001b[0m \u001b[1;33m=\u001b[0m \u001b[0mpd\u001b[0m\u001b[1;33m.\u001b[0m\u001b[0mDataFrame\u001b[0m\u001b[1;33m(\u001b[0m\u001b[0mdata\u001b[0m\u001b[1;33m=\u001b[0m\u001b[0mfail_dict\u001b[0m\u001b[1;33m.\u001b[0m\u001b[0mvalues\u001b[0m\u001b[1;33m(\u001b[0m\u001b[1;33m)\u001b[0m\u001b[1;33m,\u001b[0m\u001b[0mindex\u001b[0m \u001b[1;33m=\u001b[0m \u001b[0mfail_dict\u001b[0m\u001b[1;33m.\u001b[0m\u001b[0mkeys\u001b[0m\u001b[1;33m(\u001b[0m\u001b[1;33m)\u001b[0m\u001b[1;33m,\u001b[0m \u001b[0mcolumns\u001b[0m \u001b[1;33m=\u001b[0m \u001b[1;33m[\u001b[0m\u001b[1;34m'message'\u001b[0m\u001b[1;33m]\u001b[0m\u001b[1;33m)\u001b[0m\u001b[1;33m\u001b[0m\u001b[0m\n\u001b[0m\u001b[0;32m      3\u001b[0m \u001b[0mfail_dicts\u001b[0m\u001b[1;33m.\u001b[0m\u001b[0mto_csv\u001b[0m\u001b[1;33m(\u001b[0m\u001b[1;34m'fail_dict.csv'\u001b[0m\u001b[1;33m,\u001b[0m\u001b[0msep\u001b[0m\u001b[1;33m=\u001b[0m\u001b[1;34m'\\t'\u001b[0m \u001b[1;33m,\u001b[0m \u001b[0mencoding\u001b[0m \u001b[1;33m=\u001b[0m \u001b[1;34m'utf-8'\u001b[0m\u001b[1;33m)\u001b[0m\u001b[1;33m\u001b[0m\u001b[0m\n",
      "\u001b[1;31mNameError\u001b[0m: name 'fail_dict' is not defined"
     ]
    }
   ],
   "source": [
    "#saving fail_dict for later, because scraping takes forever\n",
    "fail_dicts = pd.DataFrame(data=fail_dict.values(),index = fail_dict.keys(), columns = ['message'])\n",
    "fail_dicts.to_csv('fail_dict.csv',sep='\\t' , encoding = 'utf-8')"
   ]
  },
  {
   "cell_type": "code",
   "execution_count": 19,
   "metadata": {},
   "outputs": [],
   "source": [
    "#grab tweets in to a list\n",
    "tweets_list = []\n",
    "for line in open('tweet_json.txt','r'):\n",
    "    tweets_list.append(json.loads(line))"
   ]
  },
  {
   "cell_type": "markdown",
   "metadata": {},
   "source": [
    "## Asessing Data"
   ]
  },
  {
   "cell_type": "code",
   "execution_count": 20,
   "metadata": {},
   "outputs": [
    {
     "data": {
      "text/plain": [
       "{'created_at': 'Sat Jul 29 00:08:17 +0000 2017',\n",
       " 'id': 891087950875897856,\n",
       " 'id_str': '891087950875897856',\n",
       " 'full_text': \"Here we have a majestic great white breaching off South Africa's coast. Absolutely h*ckin breathtaking. 13/10 (IG: tucker_marlo) #BarkWeek https://t.co/kQ04fDDRmh\",\n",
       " 'truncated': False,\n",
       " 'display_text_range': [0, 138],\n",
       " 'entities': {'hashtags': [{'text': 'BarkWeek', 'indices': [129, 138]}],\n",
       "  'symbols': [],\n",
       "  'user_mentions': [],\n",
       "  'urls': [],\n",
       "  'media': [{'id': 891087942176911360,\n",
       "    'id_str': '891087942176911360',\n",
       "    'indices': [139, 162],\n",
       "    'media_url': 'http://pbs.twimg.com/media/DF3HwyEWsAABqE6.jpg',\n",
       "    'media_url_https': 'https://pbs.twimg.com/media/DF3HwyEWsAABqE6.jpg',\n",
       "    'url': 'https://t.co/kQ04fDDRmh',\n",
       "    'display_url': 'pic.twitter.com/kQ04fDDRmh',\n",
       "    'expanded_url': 'https://twitter.com/dog_rates/status/891087950875897856/photo/1',\n",
       "    'type': 'photo',\n",
       "    'sizes': {'thumb': {'w': 150, 'h': 150, 'resize': 'crop'},\n",
       "     'small': {'w': 680, 'h': 680, 'resize': 'fit'},\n",
       "     'medium': {'w': 899, 'h': 899, 'resize': 'fit'},\n",
       "     'large': {'w': 899, 'h': 899, 'resize': 'fit'}}}]},\n",
       " 'extended_entities': {'media': [{'id': 891087942176911360,\n",
       "    'id_str': '891087942176911360',\n",
       "    'indices': [139, 162],\n",
       "    'media_url': 'http://pbs.twimg.com/media/DF3HwyEWsAABqE6.jpg',\n",
       "    'media_url_https': 'https://pbs.twimg.com/media/DF3HwyEWsAABqE6.jpg',\n",
       "    'url': 'https://t.co/kQ04fDDRmh',\n",
       "    'display_url': 'pic.twitter.com/kQ04fDDRmh',\n",
       "    'expanded_url': 'https://twitter.com/dog_rates/status/891087950875897856/photo/1',\n",
       "    'type': 'photo',\n",
       "    'sizes': {'thumb': {'w': 150, 'h': 150, 'resize': 'crop'},\n",
       "     'small': {'w': 680, 'h': 680, 'resize': 'fit'},\n",
       "     'medium': {'w': 899, 'h': 899, 'resize': 'fit'},\n",
       "     'large': {'w': 899, 'h': 899, 'resize': 'fit'}}}]},\n",
       " 'source': '<a href=\"http://twitter.com/download/iphone\" rel=\"nofollow\">Twitter for iPhone</a>',\n",
       " 'in_reply_to_status_id': None,\n",
       " 'in_reply_to_status_id_str': None,\n",
       " 'in_reply_to_user_id': None,\n",
       " 'in_reply_to_user_id_str': None,\n",
       " 'in_reply_to_screen_name': None,\n",
       " 'user': {'id': 4196983835,\n",
       "  'id_str': '4196983835',\n",
       "  'name': 'WeRateDogs™',\n",
       "  'screen_name': 'dog_rates',\n",
       "  'location': 'DM YOUR DOGS',\n",
       "  'description': 'Your Only Source For Professional Dog Ratings ⠀ ⠀IG, FB, Snapchat ⇨ WeRateDogs partnerships@weratedogs.com',\n",
       "  'url': 'https://t.co/N7sNNHAEXS',\n",
       "  'entities': {'url': {'urls': [{'url': 'https://t.co/N7sNNHAEXS',\n",
       "      'expanded_url': 'http://weratedogs.com',\n",
       "      'display_url': 'weratedogs.com',\n",
       "      'indices': [0, 23]}]},\n",
       "   'description': {'urls': []}},\n",
       "  'protected': False,\n",
       "  'followers_count': 7619754,\n",
       "  'friends_count': 12,\n",
       "  'listed_count': 5784,\n",
       "  'created_at': 'Sun Nov 15 21:41:29 +0000 2015',\n",
       "  'favourites_count': 140919,\n",
       "  'utc_offset': None,\n",
       "  'time_zone': None,\n",
       "  'geo_enabled': True,\n",
       "  'verified': True,\n",
       "  'statuses_count': 9574,\n",
       "  'lang': 'en',\n",
       "  'contributors_enabled': False,\n",
       "  'is_translator': False,\n",
       "  'is_translation_enabled': False,\n",
       "  'profile_background_color': '000000',\n",
       "  'profile_background_image_url': 'http://abs.twimg.com/images/themes/theme1/bg.png',\n",
       "  'profile_background_image_url_https': 'https://abs.twimg.com/images/themes/theme1/bg.png',\n",
       "  'profile_background_tile': False,\n",
       "  'profile_image_url': 'http://pbs.twimg.com/profile_images/1080268745619189760/CyqCf_dA_normal.jpg',\n",
       "  'profile_image_url_https': 'https://pbs.twimg.com/profile_images/1080268745619189760/CyqCf_dA_normal.jpg',\n",
       "  'profile_banner_url': 'https://pbs.twimg.com/profile_banners/4196983835/1544368760',\n",
       "  'profile_link_color': 'F5ABB5',\n",
       "  'profile_sidebar_border_color': '000000',\n",
       "  'profile_sidebar_fill_color': '000000',\n",
       "  'profile_text_color': '000000',\n",
       "  'profile_use_background_image': False,\n",
       "  'has_extended_profile': False,\n",
       "  'default_profile': False,\n",
       "  'default_profile_image': False,\n",
       "  'following': False,\n",
       "  'follow_request_sent': False,\n",
       "  'notifications': False,\n",
       "  'translator_type': 'none'},\n",
       " 'geo': None,\n",
       " 'coordinates': None,\n",
       " 'place': None,\n",
       " 'contributors': None,\n",
       " 'is_quote_status': False,\n",
       " 'retweet_count': 3046,\n",
       " 'favorite_count': 19870,\n",
       " 'favorited': False,\n",
       " 'retweeted': False,\n",
       " 'possibly_sensitive': False,\n",
       " 'possibly_sensitive_appealable': False,\n",
       " 'lang': 'en'}"
      ]
     },
     "execution_count": 20,
     "metadata": {},
     "output_type": "execute_result"
    }
   ],
   "source": [
    "#figure out what the json looks like\n",
    "tweets_list[5]"
   ]
  },
  {
   "cell_type": "code",
   "execution_count": 21,
   "metadata": {},
   "outputs": [],
   "source": [
    "#collect necessary data from twitter harvest\n",
    "columns = ['tweet_id','favorite_count','retweet_count']\n",
    "transfer = []\n",
    "retweet_ID=[]\n",
    "retweet_counter=0\n",
    "for tweet in tweets_list: \n",
    "    ID = np.int64(tweet['id'])\n",
    "    favorite_count = tweet['favorite_count']\n",
    "    retweet_count = tweet['retweet_count']\n",
    "\n",
    "    transfer.append((ID,favorite_count,retweet_count))\n",
    "\n",
    "tweets_extended = pd.DataFrame(transfer, columns = columns)"
   ]
  },
  {
   "cell_type": "code",
   "execution_count": 22,
   "metadata": {},
   "outputs": [
    {
     "name": "stdout",
     "output_type": "stream",
     "text": [
      "<class 'pandas.core.frame.DataFrame'>\n",
      "RangeIndex: 2340 entries, 0 to 2339\n",
      "Data columns (total 3 columns):\n",
      "tweet_id          2340 non-null int64\n",
      "favorite_count    2340 non-null int64\n",
      "retweet_count     2340 non-null int64\n",
      "dtypes: int64(3)\n",
      "memory usage: 54.9 KB\n"
     ]
    }
   ],
   "source": [
    "tweets_extended.info()"
   ]
  },
  {
   "cell_type": "code",
   "execution_count": 23,
   "metadata": {},
   "outputs": [
    {
     "data": {
      "text/html": [
       "<div>\n",
       "<style scoped>\n",
       "    .dataframe tbody tr th:only-of-type {\n",
       "        vertical-align: middle;\n",
       "    }\n",
       "\n",
       "    .dataframe tbody tr th {\n",
       "        vertical-align: top;\n",
       "    }\n",
       "\n",
       "    .dataframe thead th {\n",
       "        text-align: right;\n",
       "    }\n",
       "</style>\n",
       "<table border=\"1\" class=\"dataframe\">\n",
       "  <thead>\n",
       "    <tr style=\"text-align: right;\">\n",
       "      <th></th>\n",
       "      <th>tweet_id</th>\n",
       "      <th>in_reply_to_status_id</th>\n",
       "      <th>in_reply_to_user_id</th>\n",
       "      <th>timestamp</th>\n",
       "      <th>source</th>\n",
       "      <th>text</th>\n",
       "      <th>retweeted_status_id</th>\n",
       "      <th>retweeted_status_user_id</th>\n",
       "      <th>retweeted_status_timestamp</th>\n",
       "      <th>expanded_urls</th>\n",
       "      <th>rating_numerator</th>\n",
       "      <th>rating_denominator</th>\n",
       "      <th>name</th>\n",
       "      <th>doggo</th>\n",
       "      <th>floofer</th>\n",
       "      <th>pupper</th>\n",
       "      <th>puppo</th>\n",
       "    </tr>\n",
       "  </thead>\n",
       "  <tbody>\n",
       "    <tr>\n",
       "      <th>0</th>\n",
       "      <td>892420643555336193</td>\n",
       "      <td>NaN</td>\n",
       "      <td>NaN</td>\n",
       "      <td>2017-08-01 16:23:56 +0000</td>\n",
       "      <td>&lt;a href=\"http://twitter.com/download/iphone\" r...</td>\n",
       "      <td>This is Phineas. He's a mystical boy. Only eve...</td>\n",
       "      <td>NaN</td>\n",
       "      <td>NaN</td>\n",
       "      <td>NaN</td>\n",
       "      <td>https://twitter.com/dog_rates/status/892420643...</td>\n",
       "      <td>13</td>\n",
       "      <td>10</td>\n",
       "      <td>Phineas</td>\n",
       "      <td>None</td>\n",
       "      <td>None</td>\n",
       "      <td>None</td>\n",
       "      <td>None</td>\n",
       "    </tr>\n",
       "    <tr>\n",
       "      <th>1</th>\n",
       "      <td>892177421306343426</td>\n",
       "      <td>NaN</td>\n",
       "      <td>NaN</td>\n",
       "      <td>2017-08-01 00:17:27 +0000</td>\n",
       "      <td>&lt;a href=\"http://twitter.com/download/iphone\" r...</td>\n",
       "      <td>This is Tilly. She's just checking pup on you....</td>\n",
       "      <td>NaN</td>\n",
       "      <td>NaN</td>\n",
       "      <td>NaN</td>\n",
       "      <td>https://twitter.com/dog_rates/status/892177421...</td>\n",
       "      <td>13</td>\n",
       "      <td>10</td>\n",
       "      <td>Tilly</td>\n",
       "      <td>None</td>\n",
       "      <td>None</td>\n",
       "      <td>None</td>\n",
       "      <td>None</td>\n",
       "    </tr>\n",
       "    <tr>\n",
       "      <th>2</th>\n",
       "      <td>891815181378084864</td>\n",
       "      <td>NaN</td>\n",
       "      <td>NaN</td>\n",
       "      <td>2017-07-31 00:18:03 +0000</td>\n",
       "      <td>&lt;a href=\"http://twitter.com/download/iphone\" r...</td>\n",
       "      <td>This is Archie. He is a rare Norwegian Pouncin...</td>\n",
       "      <td>NaN</td>\n",
       "      <td>NaN</td>\n",
       "      <td>NaN</td>\n",
       "      <td>https://twitter.com/dog_rates/status/891815181...</td>\n",
       "      <td>12</td>\n",
       "      <td>10</td>\n",
       "      <td>Archie</td>\n",
       "      <td>None</td>\n",
       "      <td>None</td>\n",
       "      <td>None</td>\n",
       "      <td>None</td>\n",
       "    </tr>\n",
       "    <tr>\n",
       "      <th>3</th>\n",
       "      <td>891689557279858688</td>\n",
       "      <td>NaN</td>\n",
       "      <td>NaN</td>\n",
       "      <td>2017-07-30 15:58:51 +0000</td>\n",
       "      <td>&lt;a href=\"http://twitter.com/download/iphone\" r...</td>\n",
       "      <td>This is Darla. She commenced a snooze mid meal...</td>\n",
       "      <td>NaN</td>\n",
       "      <td>NaN</td>\n",
       "      <td>NaN</td>\n",
       "      <td>https://twitter.com/dog_rates/status/891689557...</td>\n",
       "      <td>13</td>\n",
       "      <td>10</td>\n",
       "      <td>Darla</td>\n",
       "      <td>None</td>\n",
       "      <td>None</td>\n",
       "      <td>None</td>\n",
       "      <td>None</td>\n",
       "    </tr>\n",
       "    <tr>\n",
       "      <th>4</th>\n",
       "      <td>891327558926688256</td>\n",
       "      <td>NaN</td>\n",
       "      <td>NaN</td>\n",
       "      <td>2017-07-29 16:00:24 +0000</td>\n",
       "      <td>&lt;a href=\"http://twitter.com/download/iphone\" r...</td>\n",
       "      <td>This is Franklin. He would like you to stop ca...</td>\n",
       "      <td>NaN</td>\n",
       "      <td>NaN</td>\n",
       "      <td>NaN</td>\n",
       "      <td>https://twitter.com/dog_rates/status/891327558...</td>\n",
       "      <td>12</td>\n",
       "      <td>10</td>\n",
       "      <td>Franklin</td>\n",
       "      <td>None</td>\n",
       "      <td>None</td>\n",
       "      <td>None</td>\n",
       "      <td>None</td>\n",
       "    </tr>\n",
       "  </tbody>\n",
       "</table>\n",
       "</div>"
      ],
      "text/plain": [
       "             tweet_id  in_reply_to_status_id  in_reply_to_user_id  \\\n",
       "0  892420643555336193                    NaN                  NaN   \n",
       "1  892177421306343426                    NaN                  NaN   \n",
       "2  891815181378084864                    NaN                  NaN   \n",
       "3  891689557279858688                    NaN                  NaN   \n",
       "4  891327558926688256                    NaN                  NaN   \n",
       "\n",
       "                   timestamp  \\\n",
       "0  2017-08-01 16:23:56 +0000   \n",
       "1  2017-08-01 00:17:27 +0000   \n",
       "2  2017-07-31 00:18:03 +0000   \n",
       "3  2017-07-30 15:58:51 +0000   \n",
       "4  2017-07-29 16:00:24 +0000   \n",
       "\n",
       "                                              source  \\\n",
       "0  <a href=\"http://twitter.com/download/iphone\" r...   \n",
       "1  <a href=\"http://twitter.com/download/iphone\" r...   \n",
       "2  <a href=\"http://twitter.com/download/iphone\" r...   \n",
       "3  <a href=\"http://twitter.com/download/iphone\" r...   \n",
       "4  <a href=\"http://twitter.com/download/iphone\" r...   \n",
       "\n",
       "                                                text  retweeted_status_id  \\\n",
       "0  This is Phineas. He's a mystical boy. Only eve...                  NaN   \n",
       "1  This is Tilly. She's just checking pup on you....                  NaN   \n",
       "2  This is Archie. He is a rare Norwegian Pouncin...                  NaN   \n",
       "3  This is Darla. She commenced a snooze mid meal...                  NaN   \n",
       "4  This is Franklin. He would like you to stop ca...                  NaN   \n",
       "\n",
       "   retweeted_status_user_id retweeted_status_timestamp  \\\n",
       "0                       NaN                        NaN   \n",
       "1                       NaN                        NaN   \n",
       "2                       NaN                        NaN   \n",
       "3                       NaN                        NaN   \n",
       "4                       NaN                        NaN   \n",
       "\n",
       "                                       expanded_urls  rating_numerator  \\\n",
       "0  https://twitter.com/dog_rates/status/892420643...                13   \n",
       "1  https://twitter.com/dog_rates/status/892177421...                13   \n",
       "2  https://twitter.com/dog_rates/status/891815181...                12   \n",
       "3  https://twitter.com/dog_rates/status/891689557...                13   \n",
       "4  https://twitter.com/dog_rates/status/891327558...                12   \n",
       "\n",
       "   rating_denominator      name doggo floofer pupper puppo  \n",
       "0                  10   Phineas  None    None   None  None  \n",
       "1                  10     Tilly  None    None   None  None  \n",
       "2                  10    Archie  None    None   None  None  \n",
       "3                  10     Darla  None    None   None  None  \n",
       "4                  10  Franklin  None    None   None  None  "
      ]
     },
     "execution_count": 23,
     "metadata": {},
     "output_type": "execute_result"
    }
   ],
   "source": [
    "tweets_archive.head()"
   ]
  },
  {
   "cell_type": "code",
   "execution_count": 24,
   "metadata": {},
   "outputs": [
    {
     "data": {
      "text/html": [
       "<div>\n",
       "<style scoped>\n",
       "    .dataframe tbody tr th:only-of-type {\n",
       "        vertical-align: middle;\n",
       "    }\n",
       "\n",
       "    .dataframe tbody tr th {\n",
       "        vertical-align: top;\n",
       "    }\n",
       "\n",
       "    .dataframe thead th {\n",
       "        text-align: right;\n",
       "    }\n",
       "</style>\n",
       "<table border=\"1\" class=\"dataframe\">\n",
       "  <thead>\n",
       "    <tr style=\"text-align: right;\">\n",
       "      <th></th>\n",
       "      <th>tweet_id</th>\n",
       "      <th>jpg_url</th>\n",
       "      <th>img_num</th>\n",
       "      <th>p1</th>\n",
       "      <th>p1_conf</th>\n",
       "      <th>p1_dog</th>\n",
       "      <th>p2</th>\n",
       "      <th>p2_conf</th>\n",
       "      <th>p2_dog</th>\n",
       "      <th>p3</th>\n",
       "      <th>p3_conf</th>\n",
       "      <th>p3_dog</th>\n",
       "    </tr>\n",
       "  </thead>\n",
       "  <tbody>\n",
       "    <tr>\n",
       "      <th>0</th>\n",
       "      <td>666020888022790149</td>\n",
       "      <td>https://pbs.twimg.com/media/CT4udn0WwAA0aMy.jpg</td>\n",
       "      <td>1</td>\n",
       "      <td>Welsh_springer_spaniel</td>\n",
       "      <td>0.465074</td>\n",
       "      <td>True</td>\n",
       "      <td>collie</td>\n",
       "      <td>0.156665</td>\n",
       "      <td>True</td>\n",
       "      <td>Shetland_sheepdog</td>\n",
       "      <td>0.061428</td>\n",
       "      <td>True</td>\n",
       "    </tr>\n",
       "    <tr>\n",
       "      <th>1</th>\n",
       "      <td>666029285002620928</td>\n",
       "      <td>https://pbs.twimg.com/media/CT42GRgUYAA5iDo.jpg</td>\n",
       "      <td>1</td>\n",
       "      <td>redbone</td>\n",
       "      <td>0.506826</td>\n",
       "      <td>True</td>\n",
       "      <td>miniature_pinscher</td>\n",
       "      <td>0.074192</td>\n",
       "      <td>True</td>\n",
       "      <td>Rhodesian_ridgeback</td>\n",
       "      <td>0.072010</td>\n",
       "      <td>True</td>\n",
       "    </tr>\n",
       "    <tr>\n",
       "      <th>2</th>\n",
       "      <td>666033412701032449</td>\n",
       "      <td>https://pbs.twimg.com/media/CT4521TWwAEvMyu.jpg</td>\n",
       "      <td>1</td>\n",
       "      <td>German_shepherd</td>\n",
       "      <td>0.596461</td>\n",
       "      <td>True</td>\n",
       "      <td>malinois</td>\n",
       "      <td>0.138584</td>\n",
       "      <td>True</td>\n",
       "      <td>bloodhound</td>\n",
       "      <td>0.116197</td>\n",
       "      <td>True</td>\n",
       "    </tr>\n",
       "    <tr>\n",
       "      <th>3</th>\n",
       "      <td>666044226329800704</td>\n",
       "      <td>https://pbs.twimg.com/media/CT5Dr8HUEAA-lEu.jpg</td>\n",
       "      <td>1</td>\n",
       "      <td>Rhodesian_ridgeback</td>\n",
       "      <td>0.408143</td>\n",
       "      <td>True</td>\n",
       "      <td>redbone</td>\n",
       "      <td>0.360687</td>\n",
       "      <td>True</td>\n",
       "      <td>miniature_pinscher</td>\n",
       "      <td>0.222752</td>\n",
       "      <td>True</td>\n",
       "    </tr>\n",
       "    <tr>\n",
       "      <th>4</th>\n",
       "      <td>666049248165822465</td>\n",
       "      <td>https://pbs.twimg.com/media/CT5IQmsXIAAKY4A.jpg</td>\n",
       "      <td>1</td>\n",
       "      <td>miniature_pinscher</td>\n",
       "      <td>0.560311</td>\n",
       "      <td>True</td>\n",
       "      <td>Rottweiler</td>\n",
       "      <td>0.243682</td>\n",
       "      <td>True</td>\n",
       "      <td>Doberman</td>\n",
       "      <td>0.154629</td>\n",
       "      <td>True</td>\n",
       "    </tr>\n",
       "  </tbody>\n",
       "</table>\n",
       "</div>"
      ],
      "text/plain": [
       "             tweet_id                                          jpg_url  \\\n",
       "0  666020888022790149  https://pbs.twimg.com/media/CT4udn0WwAA0aMy.jpg   \n",
       "1  666029285002620928  https://pbs.twimg.com/media/CT42GRgUYAA5iDo.jpg   \n",
       "2  666033412701032449  https://pbs.twimg.com/media/CT4521TWwAEvMyu.jpg   \n",
       "3  666044226329800704  https://pbs.twimg.com/media/CT5Dr8HUEAA-lEu.jpg   \n",
       "4  666049248165822465  https://pbs.twimg.com/media/CT5IQmsXIAAKY4A.jpg   \n",
       "\n",
       "   img_num                      p1   p1_conf  p1_dog                  p2  \\\n",
       "0        1  Welsh_springer_spaniel  0.465074    True              collie   \n",
       "1        1                 redbone  0.506826    True  miniature_pinscher   \n",
       "2        1         German_shepherd  0.596461    True            malinois   \n",
       "3        1     Rhodesian_ridgeback  0.408143    True             redbone   \n",
       "4        1      miniature_pinscher  0.560311    True          Rottweiler   \n",
       "\n",
       "    p2_conf  p2_dog                   p3   p3_conf  p3_dog  \n",
       "0  0.156665    True    Shetland_sheepdog  0.061428    True  \n",
       "1  0.074192    True  Rhodesian_ridgeback  0.072010    True  \n",
       "2  0.138584    True           bloodhound  0.116197    True  \n",
       "3  0.360687    True   miniature_pinscher  0.222752    True  \n",
       "4  0.243682    True             Doberman  0.154629    True  "
      ]
     },
     "execution_count": 24,
     "metadata": {},
     "output_type": "execute_result"
    }
   ],
   "source": [
    "dog_predictions.head()"
   ]
  },
  {
   "cell_type": "code",
   "execution_count": 25,
   "metadata": {},
   "outputs": [
    {
     "name": "stdout",
     "output_type": "stream",
     "text": [
      "<class 'pandas.core.frame.DataFrame'>\n",
      "RangeIndex: 2356 entries, 0 to 2355\n",
      "Data columns (total 17 columns):\n",
      "tweet_id                      2356 non-null int64\n",
      "in_reply_to_status_id         78 non-null float64\n",
      "in_reply_to_user_id           78 non-null float64\n",
      "timestamp                     2356 non-null object\n",
      "source                        2356 non-null object\n",
      "text                          2356 non-null object\n",
      "retweeted_status_id           181 non-null float64\n",
      "retweeted_status_user_id      181 non-null float64\n",
      "retweeted_status_timestamp    181 non-null object\n",
      "expanded_urls                 2297 non-null object\n",
      "rating_numerator              2356 non-null int64\n",
      "rating_denominator            2356 non-null int64\n",
      "name                          2356 non-null object\n",
      "doggo                         2356 non-null object\n",
      "floofer                       2356 non-null object\n",
      "pupper                        2356 non-null object\n",
      "puppo                         2356 non-null object\n",
      "dtypes: float64(4), int64(3), object(10)\n",
      "memory usage: 313.0+ KB\n"
     ]
    }
   ],
   "source": [
    "tweets_archive.info()"
   ]
  },
  {
   "cell_type": "code",
   "execution_count": 26,
   "metadata": {},
   "outputs": [
    {
     "data": {
      "text/plain": [
       "(array([ 10,   0,  15,  70,   7,  11, 150, 170,  20,  50,  90,  80,  40,\n",
       "        130, 110,  16, 120,   2], dtype=int64),\n",
       " array([  13,   12,   14,    5,   17,   11,   10,  420,  666,    6,   15,\n",
       "         182,  960,    0,   75,    7,   84,    9,   24,    8,    1,   27,\n",
       "           3,    4,  165, 1776,  204,   50,   99,   80,   45,   60,   44,\n",
       "         143,  121,   20,   26,    2,  144,   88], dtype=int64))"
      ]
     },
     "execution_count": 26,
     "metadata": {},
     "output_type": "execute_result"
    }
   ],
   "source": [
    "#look at denominator values \n",
    "tweets_archive['rating_denominator'].unique(), tweets_archive['rating_numerator'].unique()"
   ]
  },
  {
   "cell_type": "code",
   "execution_count": 27,
   "metadata": {},
   "outputs": [
    {
     "name": "stdout",
     "output_type": "stream",
     "text": [
      "313 @jonnysun @Lin_Manuel ok jomny I know you're excited but 960/00 isn't a valid rating, 13/10 is tho\n",
      "342 @docmisterio account started on 11/15/15\n",
      "433 The floofs have been released I repeat the floofs have been released. 84/70 https://t.co/NIYC820tmd\n",
      "516 Meet Sam. She smiles 24/7 &amp; secretly aspires to be a reindeer. \n",
      "Keep Sam smiling by clicking and sharing this link:\n",
      "https://t.co/98tB8y7y7t https://t.co/LouL5vdvxx\n",
      "784 RT @dog_rates: After so many requests, this is Bretagne. She was the last surviving 9/11 search dog, and our second ever 14/10. RIP https:/…\n",
      "902 Why does this never happen at my front door... 165/150 https://t.co/HmwrdfEfUE\n",
      "1068 After so many requests, this is Bretagne. She was the last surviving 9/11 search dog, and our second ever 14/10. RIP https://t.co/XAVDNDaVgQ\n",
      "1120 Say hello to this unbelievably well behaved squad of doggos. 204/170 would try to pet all at once https://t.co/yGQI3He3xv\n",
      "1165 Happy 4/20 from the squad! 13/10 for all https://t.co/eV1diwds8a\n",
      "1202 This is Bluebert. He just saw that both #FinalFur match ups are split 50/50. Amazed af. 11/10 https://t.co/Kky1DPG4iq\n",
      "1228 Happy Saturday here's 9 puppers on a bench. 99/90 good work everybody https://t.co/mpvaVxKmc1\n",
      "1254 Here's a brigade of puppers. All look very prepared for whatever happens next. 80/80 https://t.co/0eb7R1Om12\n",
      "1274 From left to right:\n",
      "Cletus, Jerome, Alejandro, Burp, &amp; Titson\n",
      "None know where camera is. 45/50 would hug all at once https://t.co/sedre1ivTK\n",
      "1351 Here is a whole flock of puppers.  60/50 I'll take the lot https://t.co/9dpcw6MdWa\n",
      "1433 Happy Wednesday here's a bucket of pups. 44/40 would pet all at once https://t.co/HppvrYuamZ\n",
      "1598 Yes I do realize a rating of 4/20 would've been fitting. However, it would be unjust to give these cooperative pups that low of a rating\n",
      "1634 Two sneaky puppers were not initially seen, moving the rating to 143/130. Please forgive us. Thank you https://t.co/kRK51Y5ac3\n",
      "1635 Someone help the girl is being mugged. Several are distracting her while two steal her shoes. Clever puppers 121/110 https://t.co/1zfnTJLt55\n",
      "1662 This is Darrel. He just robbed a 7/11 and is in a high speed police chase. Was just spotted by the helicopter 10/10 https://t.co/7EsP8LmSp5\n",
      "1663 I'm aware that I could've said 20/16, but here at WeRateDogs we are very professional. An inconsistent rating scale is simply irresponsible\n",
      "1779 IT'S PUPPERGEDDON. Total of 144/120 ...I think https://t.co/ZanVtAtvIq\n",
      "1843 Here we have an entire platoon of puppers. Total score: 88/80 would pet all at once https://t.co/y93p6FLvVw\n",
      "2335 This is an Albanian 3 1/2 legged  Episcopalian. Loves well-polished hardwood flooring. Penis on the collar. 9/10 https://t.co/d9NcXFKwLv\n"
     ]
    }
   ],
   "source": [
    "#check denominators and numerators \n",
    "mask = tweets_archive['rating_denominator'] != 10\n",
    "weird_denom = tweets_archive[mask]\n",
    "\n",
    "weird_denom_ids = weird_denom['tweet_id']\n",
    "\n",
    "weird_denom.index[16], len(weird_denom)\n",
    "for i in range(len(weird_denom)):\n",
    "    print(weird_denom.index[i],weird_denom['text'].tolist()[i])\n",
    "    \n"
   ]
  },
  {
   "cell_type": "markdown",
   "metadata": {},
   "source": [
    "Some values are replies and retweets, which we will strip. \n",
    "Based on context it looks like we have a few different categories where the denominators are weird:\n",
    "* multiple dogs\n",
    "    * 433\n",
    "    * 902\n",
    "    * 1120\n",
    "    * 1228\n",
    "    * 1254\n",
    "    * 1274\n",
    "    * 1351\n",
    "    * 1433\n",
    "    * 1635\n",
    "    * 1779\n",
    "    * 1843\n",
    "* grabbed the wrong value\n",
    "    * 1068 should be 14/10, not 9/11\n",
    "    * 1165 should be 13/10, not 4/20\n",
    "    * 1202 should be 11/10 not 50/50\n",
    "    * 1662 should be 10/10 not 7/11\n",
    "    * 2335 should be 9/10 not 3 1/2\n",
    "* no actual dog rating\n",
    "    * 516 - should be dropped\n",
    "    "
   ]
  },
  {
   "cell_type": "code",
   "execution_count": 28,
   "metadata": {},
   "outputs": [],
   "source": [
    "#collect incorrect dog ratings in to different groups\n",
    "wrong_dog_rating = [1068,1165,1202,1662,2335]\n",
    "no_dog_rating = [516]\n",
    "multiple_dog_rating = weird_denom.index.drop(wrong_dog_rating+no_dog_rating)"
   ]
  },
  {
   "cell_type": "code",
   "execution_count": 29,
   "metadata": {},
   "outputs": [
    {
     "data": {
      "text/plain": [
       "array(['<a href=\"http://twitter.com/download/iphone\" rel=\"nofollow\">Twitter for iPhone</a>',\n",
       "       '<a href=\"http://twitter.com\" rel=\"nofollow\">Twitter Web Client</a>',\n",
       "       '<a href=\"http://vine.co\" rel=\"nofollow\">Vine - Make a Scene</a>',\n",
       "       '<a href=\"https://about.twitter.com/products/tweetdeck\" rel=\"nofollow\">TweetDeck</a>'],\n",
       "      dtype=object)"
      ]
     },
     "execution_count": 29,
     "metadata": {},
     "output_type": "execute_result"
    }
   ],
   "source": [
    "#what do we have for sources?\n",
    "tweets_archive['source'].unique()"
   ]
  },
  {
   "cell_type": "code",
   "execution_count": 30,
   "metadata": {},
   "outputs": [
    {
     "data": {
      "text/plain": [
       "array(['None', 'puppo'], dtype=object)"
      ]
     },
     "execution_count": 30,
     "metadata": {},
     "output_type": "execute_result"
    }
   ],
   "source": [
    "#check if any bad values are in any of the dog categories\n",
    "tweets_archive.puppo.unique()"
   ]
  },
  {
   "cell_type": "code",
   "execution_count": 31,
   "metadata": {},
   "outputs": [
    {
     "data": {
      "text/plain": [
       "array(['None', 'floofer'], dtype=object)"
      ]
     },
     "execution_count": 31,
     "metadata": {},
     "output_type": "execute_result"
    }
   ],
   "source": [
    "tweets_archive.floofer.unique()"
   ]
  },
  {
   "cell_type": "code",
   "execution_count": 32,
   "metadata": {},
   "outputs": [
    {
     "data": {
      "text/plain": [
       "array(['None', 'pupper'], dtype=object)"
      ]
     },
     "execution_count": 32,
     "metadata": {},
     "output_type": "execute_result"
    }
   ],
   "source": [
    "tweets_archive.pupper.unique()"
   ]
  },
  {
   "cell_type": "code",
   "execution_count": 33,
   "metadata": {},
   "outputs": [
    {
     "data": {
      "text/plain": [
       "array(['None', 'puppo'], dtype=object)"
      ]
     },
     "execution_count": 33,
     "metadata": {},
     "output_type": "execute_result"
    }
   ],
   "source": [
    "tweets_archive.puppo.unique()"
   ]
  },
  {
   "cell_type": "code",
   "execution_count": 34,
   "metadata": {},
   "outputs": [
    {
     "data": {
      "text/plain": [
       "array(['very', 'unacceptable', 'this', 'the', 'such', 'space', 'quite',\n",
       "       'one', 'old', 'officially', 'not', 'my', 'mad', 'light', 'life',\n",
       "       'just', 'infuriating', 'incredibly', 'his', 'getting', 'by', 'an',\n",
       "       'all', 'actually', 'a', 'Zuzu', 'Zooey', 'Zoey', 'Zoe', 'Ziva',\n",
       "       'Zeus', 'Zeke', 'Zeek', 'Zara', 'Yukon', 'Yogi', 'Yoda', 'Wyatt',\n",
       "       'Wishes', 'Winston', 'Winnie', 'Winifred', 'Wilson', 'Willy',\n",
       "       'Willow', 'Willie', 'William', 'Willem', 'Wiggles', 'Wesley',\n",
       "       'Watson', 'Walter', 'Wally', 'Wallace', 'Walker', 'Waffles',\n",
       "       'Wafer', 'Vixen', 'Vinscent', 'Vinnie', 'Vincent', 'Vince',\n",
       "       'Venti', 'Ulysses', 'Tyrus', 'Tyrone', 'Tyr', 'Tycho', 'Tupawc',\n",
       "       'Tug', 'Tuco', 'Tucker', 'Tuck', 'Trooper', 'Tripp', 'Trip',\n",
       "       'Trigger', 'Trevith', 'Traviss', 'Travis', 'Tove', 'Torque',\n",
       "       'Tonks', 'Tommy', 'Tom', 'Toffee', 'Todo', 'Toby', 'Tobi', 'Tito',\n",
       "       'Titan', 'Tino', 'Timofy', 'Timmy', 'Timison', 'Timber', 'Tilly',\n",
       "       'Tiger', 'Thumas', 'Thor', 'Theodore', 'Theo', 'Tessa', 'Tess',\n",
       "       'Terry', 'Terrenth', 'Terrance', 'Tedrick', 'Teddy', 'Tedders',\n",
       "       'Ted', 'Tebow', 'Taz', 'Tayzie', 'Tater', 'Tassy', 'Tanner',\n",
       "       'Tango', 'Taco', 'Sweets', 'Sweet', 'Swagger', 'Superpup',\n",
       "       'Sunshine', 'Sunny', 'Sundance', 'Sully', 'Suki', 'Sugar',\n",
       "       'Stubert', 'Stuart', 'Stu', 'Strudel', 'Striker', 'Strider',\n",
       "       'Stormy', 'Storkson', 'Stewie', 'Steven', 'Steve', 'Stephanus',\n",
       "       'Stephan', 'Stella', 'Stefan', 'Stark', 'Stanley', 'Staniel',\n",
       "       'Sprout', 'Sprinkles', 'Spencer', 'Sparky', 'Spark', 'Spanky',\n",
       "       'Sora', 'Sophie', 'Sonny', 'Solomon', 'Sojourner', 'Socks', 'Sobe',\n",
       "       'Snoopy', 'Snoop', 'Snicku', 'Snickers', 'Smokey', 'Smiley',\n",
       "       'Skye', 'Sky', 'Skittles', 'Skittle', 'Simba', 'Sierra', 'Sid',\n",
       "       'Siba', 'Shooter', 'Shnuggles', 'Shiloh', 'Shikha', 'Shelby',\n",
       "       'Shawwn', 'Shakespeare', 'Shaggy', 'Shadow', 'Shadoe', 'Severus',\n",
       "       'Sephie', 'Sebastian', 'Seamus', 'Scruffers', 'Scout', 'Scott',\n",
       "       'Scooter', 'Schnozz', 'Schnitzel', 'Saydee', 'Sarge', 'Sansa',\n",
       "       'Sandy', 'Sandra', 'Samson', 'Samsom', 'Sampson', 'Sammy', 'Sam',\n",
       "       'Sailor', 'Sailer', 'Sage', 'Sadie', 'Rusty', 'Rupert', 'Rumpole',\n",
       "       'Rumble', 'Rufus', 'Rufio', 'Ruffles', 'Rueben', 'Rudy', 'Ruby',\n",
       "       'Rubio', 'Rover', 'Rosie', 'Rose', 'Roscoe', 'Rory', 'Rorie',\n",
       "       'Roosevelt', 'Rooney', 'Rontu', 'Ronnie', 'Ronduh', 'Ron', 'Romeo',\n",
       "       'Rolf', 'Rodney', 'Rodman', 'Rocky', 'Rocco', 'Robin', 'Rizzy',\n",
       "       'Rizzo', 'River', 'Rinna', 'Rilo', 'Riley', 'Ridley', 'Ricky',\n",
       "       'Richie', 'Rhino', 'Rey', 'Reptar', 'Remy', 'Remus', 'Remington',\n",
       "       'Reginald', 'Reggie', 'Reese', 'Reagan', 'Raymond', 'Rascal',\n",
       "       'Raphael', 'Randall', 'Rambo', 'Ralphé', 'Ralphy', 'Ralphus',\n",
       "       'Ralphson', 'Ralphie', 'Ralpher', 'Ralph', 'Ralf', 'Quinn',\n",
       "       'Pupcasso', 'Pumpkin', 'Puff', 'Pubert', 'Poppy', 'Pluto', 'Pipsy',\n",
       "       'Pippin', 'Pippa', 'Piper', 'Pip', 'Pinot', 'Pilot', 'Pickles',\n",
       "       'Phred', 'Phineas', 'Philippe', 'Philbert', 'Phil', 'Pherb',\n",
       "       'Petrick', 'Pete', 'Perry', 'Percy', 'Pepper', 'Penny', 'Penelope',\n",
       "       'Peanut', 'Peaches', 'Pawnd', 'Pavlov', 'Paull', 'Patrick',\n",
       "       'Patch', 'Panda', 'Pancake', 'Paisley', 'Pablo', 'Ozzy', 'Ozzie',\n",
       "       'Otis', 'Oshie', 'Oscar', 'Orion', 'Oreo', 'Opie', 'Opal', 'Ollie',\n",
       "       'Oliviér', 'Olivia', 'Oliver', 'Olive', 'Ole', 'Olaf', 'Odin',\n",
       "       'Odie', 'Oddie', 'Obie', 'Obi', 'Oakley', 'O', 'Nugget', 'Norman',\n",
       "       'Noosh', 'None', 'Nollie', 'Noah', 'Nimbus', 'Nigel', 'Nida',\n",
       "       'Nico', 'Newt', 'Neptune', 'Nelly', 'Napolean', 'Naphaniel',\n",
       "       'Nala', 'Mya', 'Mutt', 'Murphy', 'Mosby', 'Moreton', 'Moose',\n",
       "       'Mookie', 'Moofasa', 'Monty', 'Monster', 'Monkey', 'Mona', 'Molly',\n",
       "       'Mollie', 'Mojo', 'Moe', 'Mo', 'Mitch', 'Misty', 'Mister',\n",
       "       'Mingus', 'Mimosa', 'Milo', 'Millie', 'Milky', 'Miley', 'Mike',\n",
       "       'Miguel', 'Michelangelope', 'Mia', 'Meyer', 'Meera', 'Meatball',\n",
       "       'Maya', 'Maxwell', 'Maximus', 'Maxaroni', 'Max', 'Mauve', 'Maude',\n",
       "       'Mattie', 'Mason', 'Mary', 'Marvin', 'Marty', 'Marq', 'Marley',\n",
       "       'Marlee', 'Mark', 'Margo', 'Malikai', 'Malcolm', 'Maks', 'Major',\n",
       "       'Maisey', 'Mairi', 'Maggie', 'Maddie', 'Mack', 'Mac', 'Mabel',\n",
       "       'Luther', 'Lupe', 'Luna', 'Lulu', 'Lugan', 'Lucy', 'Lucky',\n",
       "       'Lucia', 'Luca', 'Louis', 'Louie', 'Lou', 'Lorenzo', 'Lorelei',\n",
       "       'Loomis', 'Longfellow', 'Lolo', 'Lola', 'Loki', 'Logan', 'Lizzie',\n",
       "       'Livvie', 'Lipton', 'Linus', 'Link', 'Linda', 'Lincoln', 'Lily',\n",
       "       'Lilly', 'Lillie', 'Lilli', 'Lili', 'Lilah', 'Liam', 'Levi',\n",
       "       'Leonidas', 'Leonard', 'Leo', 'Lenox', 'Lenny', 'Lennon', 'Leela',\n",
       "       'Layla', 'Lassie', 'Larry', 'Lance', 'Lambeau', 'Laika', 'Laela',\n",
       "       'Lacy', 'Kyro', 'Kyle', 'Kuyu', 'Kulet', 'Kreggory', 'Kreg',\n",
       "       'Kramer', 'Kota', 'Kona', 'Kollin', 'Koko', 'Kody', 'Koda', 'Kobe',\n",
       "       'Kloey', 'Klevin', 'Klein', 'Kirk', 'Kirby', 'Kingsley', 'Kilo',\n",
       "       'Kial', 'Kevon', 'Kevin', 'Keurig', 'Kenzie', 'Kenny', 'Kenneth',\n",
       "       'Kendall', 'Ken', 'Kellogg', 'Keith', 'Keet', 'Kayla', 'Kawhi',\n",
       "       'Katie', 'Kathmandu', 'Karma', 'Karll', 'Karl', 'Kara', 'Kanu',\n",
       "       'Kane', 'Kallie', 'Kaiya', 'Kaia', 'Juno', 'Julius', 'Julio',\n",
       "       'Juckson', 'Joshwa', 'Josep', 'Jordy', 'Jonah', 'Jomathan', 'Joey',\n",
       "       'Jockson', 'Jo', 'Jimothy', 'Jimison', 'Jiminy', 'Jiminus',\n",
       "       'Jimbo', 'Jim', 'Jett', 'Jessiga', 'Jessifer', 'Jesse', 'Jersey',\n",
       "       'Jerry', 'Jerome', 'Jeremy', 'Jeph', 'Jennifur', 'Jeffrie',\n",
       "       'Jeffri', 'Jeffrey', 'Jed', 'Jebberson', 'Jeb', 'Jazzy', 'Jazz',\n",
       "       'Jaycob', 'Jay', 'Jax', 'Jaspers', 'Jarvis', 'Jarod', 'Jareld',\n",
       "       'Jangle', 'Jamesy', 'Jameson', 'Jackson', 'Jackie', 'Jack', 'JD',\n",
       "       'Izzy', 'Ivar', 'Ito', 'Iroh', 'Indie', 'Ike', 'Iggy', 'Huxley',\n",
       "       'Hurley', 'Hunter', 'Humphrey', 'Huck', 'Hubertson', 'Howie',\n",
       "       'Horace', 'Holly', 'Hobbes', 'Herschel', 'Hero', 'Hermione',\n",
       "       'Herm', 'Hercules', 'Herb', 'Herald', 'Henry', 'Heinrich',\n",
       "       'Hector', 'Hazel', 'Harvey', 'Harry', 'Harrison', 'Harper',\n",
       "       'Harold', 'Harnold', 'Harlso', 'Happy', 'Hanz', 'Hank', 'Hamrick',\n",
       "       'Hammond', 'Halo', 'Hall', 'Gòrdón', 'Gustav', 'Gustaf', 'Gus',\n",
       "       'Gunner', 'Gromit', 'Grizzwald', 'Grizzie', 'Grizz', 'Griswold',\n",
       "       'Griffin', 'Grey', 'Grady', 'Gordon', 'Goose', 'Goliath',\n",
       "       'Godzilla', 'Godi', 'Glenn', 'Glacier', 'Gizmo', 'Ginger', 'Gin',\n",
       "       'Gilbert', 'Gidget', 'Gert', 'Gerbald', 'Gerald', 'Georgie',\n",
       "       'George', 'Geoff', 'Geno', 'Genevieve', 'General', 'Gary', 'Gabe',\n",
       "       'Gabby', 'Fynn', 'Fwed', 'Furzey', 'Frönq', 'Freddery', 'Fred',\n",
       "       'Franq', 'Franklin', 'Frankie', 'Frank', 'Flávio', 'Flurpson',\n",
       "       'Florence', 'Fletcher', 'Flash', 'Fizz', 'Fiona', 'Finnegus',\n",
       "       'Finn', 'Finley', 'Filup', 'Fillup', 'Fiji', 'Fido', 'Ferg',\n",
       "       'Farfle', 'Fabio', 'Evy', 'Eve', 'Eugene', 'Ester', 'Eriq', 'Erik',\n",
       "       'Enchilada', 'Emmy', 'Emmie', 'Emma', 'Ember', 'Emanuel', 'Elliot',\n",
       "       'Ellie', 'Eli', 'Eleanor', 'Einstein', 'Eevee', 'Edmund', 'Edgar',\n",
       "       'Edd', 'Ed', 'Ebby', 'Eazy', 'Earl', 'Dylan', 'Dwight', 'Dutch',\n",
       "       'Durg', 'Dunkin', 'Duke', 'Dug', 'Dudley', 'Duddles', 'Duchess',\n",
       "       'Doug', 'Dotsy', 'Dot', 'Dook', 'Doobert', 'Donny', 'DonDon',\n",
       "       'Doc', 'Dobby', 'Django', 'Dixie', 'Divine', 'Diogi', 'Dietrich',\n",
       "       'Dido', 'Dexter', 'Dex', 'Dewey', 'Devón', 'Derek', 'Derby',\n",
       "       'Deacon', 'DayZ', 'Dawn', 'Davey', 'Dave', 'Dash', 'Darrel',\n",
       "       'Darla', 'Darby', 'Dante', 'Danny', 'Daniel', 'Damon', 'Dallas',\n",
       "       'Dale', 'Dakota', 'Daisy', 'Curtis', 'Cupid', 'Cupcake', 'Cuddles',\n",
       "       'Crystal', 'Crumpet', 'Crouton', 'Crimson', 'Creg', 'Crawford',\n",
       "       'Craig', 'Covach', 'Corey', 'Cora', 'Coopson', 'Coops', 'Cooper',\n",
       "       'Comet', 'Combo', 'Colin', 'Coleman', 'Colby', 'Cody', 'Coco',\n",
       "       'Clyde', 'Clybe', 'Clifford', 'Cleopatricia', 'Claude', 'Clarq',\n",
       "       'Clarkus', 'Clark', 'Clarence', 'Cilantro', 'Churlie', 'Chuq',\n",
       "       'Chuckles', 'Chuck', 'Chubbs', 'Christoper', 'Chompsky', 'Chloe',\n",
       "       'Chipson', 'Chip', 'Chevy', 'Chet', 'Chesterson', 'Chester',\n",
       "       'Chesney', 'Cheryl', 'Chelsea', 'Chef', 'Cheesy', 'Chaz', 'Chase',\n",
       "       'Charlie', 'Charleson', 'Charles', 'Charl', 'Champ', 'Chadrick',\n",
       "       'Cermet', 'Cedrick', 'Cecil', 'CeCe', 'Cassie', 'Cash', 'Caryl',\n",
       "       'Carter', 'Carper', 'Carly', 'Carll', 'Carl', 'Carbon', 'Cannon',\n",
       "       'Canela', 'Calvin', 'Callie', 'Cali', 'Calbert', 'Cal', 'Butters',\n",
       "       'Butter', 'Burt', 'Bungalo', 'Buddy', 'Buddah', 'Buckley',\n",
       "       'Bubbles', 'Bubba', 'Brutus', 'Bruno', 'Bruiser', 'Brudge',\n",
       "       'Bruce', 'Brownie', 'Brooks', 'Bronte', 'Brody', 'Brockly',\n",
       "       'Brian', 'Brat', 'Brandy', 'Brandonald', 'Brandi', 'Brady',\n",
       "       'Bradley', 'Bradlay', 'Brad', 'Bowie', 'Boston', 'Boots', 'Boomer',\n",
       "       'Bookstore', 'Bones', 'Bonaparte', 'Bodie', 'Bode', 'Bobby',\n",
       "       'Bobble', 'Bobbay', 'Bobb', 'Bob', 'Bo', 'Bluebert', 'Blue', 'Blu',\n",
       "       'Bloop', 'Bloo', 'Blitz', 'Blipson', 'Blanket', 'Blakely',\n",
       "       'Bisquick', 'Birf', 'Binky', 'Billy', 'Billl', 'Bilbo', 'Biden',\n",
       "       'Beya', 'Betty', 'Bertson', 'Bert', 'Bernie', 'Berkeley', 'Berb',\n",
       "       'Bentley', 'Benny', 'Benji', 'Benedict', 'Ben', 'Belle', 'Bella',\n",
       "       'Bell', 'Beemo', 'Beebop', 'Beckham', 'Beau', 'Bear', 'BeBe',\n",
       "       'Bayley', 'Baxter', 'Bauer', 'Batdog', 'Barry', 'Baron', 'Barney',\n",
       "       'Barclay', 'Banjo', 'Banditt', 'Balto', 'Baloo', 'Bailey', 'Axel',\n",
       "       'Ava', 'Autumn', 'Augie', 'Aubie', 'Atticus', 'Atlas', 'Astrid',\n",
       "       'Aspen', 'Ashleigh', 'Asher', 'Ash', 'Arya', 'Arnold', 'Arnie',\n",
       "       'Arlo', 'Arlen', 'Archie', 'Aqua', 'Apollo', 'Antony', 'Anthony',\n",
       "       'Anna', 'Angel', 'Andy', 'Andru', 'Anakin', 'Amélie', 'Amy',\n",
       "       'Ambrose', 'Amber', 'Alice', 'Alfy', 'Alfie', 'Alf',\n",
       "       'Alexanderson', 'Alexander', 'Alejandro', 'Aldrick', 'Albus',\n",
       "       'Albert', 'Al', 'Akumi', 'Aja', 'Aiden', 'Adele', 'Acro', 'Ace',\n",
       "       'Abby'], dtype=object)"
      ]
     },
     "execution_count": 34,
     "metadata": {},
     "output_type": "execute_result"
    }
   ],
   "source": [
    "#determine if anything strange is in the names\n",
    "dog_names = tweets_archive.name.unique()\n",
    "np.sort(dog_names)[::-1]"
   ]
  },
  {
   "cell_type": "code",
   "execution_count": 35,
   "metadata": {},
   "outputs": [
    {
     "data": {
      "text/html": [
       "<div>\n",
       "<style scoped>\n",
       "    .dataframe tbody tr th:only-of-type {\n",
       "        vertical-align: middle;\n",
       "    }\n",
       "\n",
       "    .dataframe tbody tr th {\n",
       "        vertical-align: top;\n",
       "    }\n",
       "\n",
       "    .dataframe thead th {\n",
       "        text-align: right;\n",
       "    }\n",
       "</style>\n",
       "<table border=\"1\" class=\"dataframe\">\n",
       "  <thead>\n",
       "    <tr style=\"text-align: right;\">\n",
       "      <th></th>\n",
       "      <th>tweet_id</th>\n",
       "      <th>in_reply_to_status_id</th>\n",
       "      <th>in_reply_to_user_id</th>\n",
       "      <th>timestamp</th>\n",
       "      <th>source</th>\n",
       "      <th>text</th>\n",
       "      <th>retweeted_status_id</th>\n",
       "      <th>retweeted_status_user_id</th>\n",
       "      <th>retweeted_status_timestamp</th>\n",
       "      <th>expanded_urls</th>\n",
       "      <th>rating_numerator</th>\n",
       "      <th>rating_denominator</th>\n",
       "      <th>name</th>\n",
       "      <th>doggo</th>\n",
       "      <th>floofer</th>\n",
       "      <th>pupper</th>\n",
       "      <th>puppo</th>\n",
       "    </tr>\n",
       "  </thead>\n",
       "  <tbody>\n",
       "    <tr>\n",
       "      <th>157</th>\n",
       "      <td>861288531465048066</td>\n",
       "      <td>NaN</td>\n",
       "      <td>NaN</td>\n",
       "      <td>2017-05-07 18:36:02 +0000</td>\n",
       "      <td>&lt;a href=\"http://twitter.com/download/iphone\" r...</td>\n",
       "      <td>HI. MY. NAME. IS. BOOMER. AND. I. WANT. TO. SA...</td>\n",
       "      <td>NaN</td>\n",
       "      <td>NaN</td>\n",
       "      <td>NaN</td>\n",
       "      <td>https://twitter.com/dog_rates/status/861288531...</td>\n",
       "      <td>13</td>\n",
       "      <td>10</td>\n",
       "      <td>None</td>\n",
       "      <td>None</td>\n",
       "      <td>None</td>\n",
       "      <td>None</td>\n",
       "      <td>None</td>\n",
       "    </tr>\n",
       "    <tr>\n",
       "      <th>493</th>\n",
       "      <td>813202720496779264</td>\n",
       "      <td>NaN</td>\n",
       "      <td>NaN</td>\n",
       "      <td>2016-12-26 02:00:11 +0000</td>\n",
       "      <td>&lt;a href=\"http://twitter.com/download/iphone\" r...</td>\n",
       "      <td>Here's a doggo who has concluded that Christma...</td>\n",
       "      <td>NaN</td>\n",
       "      <td>NaN</td>\n",
       "      <td>NaN</td>\n",
       "      <td>https://twitter.com/dog_rates/status/813202720...</td>\n",
       "      <td>11</td>\n",
       "      <td>10</td>\n",
       "      <td>None</td>\n",
       "      <td>doggo</td>\n",
       "      <td>None</td>\n",
       "      <td>None</td>\n",
       "      <td>None</td>\n",
       "    </tr>\n",
       "    <tr>\n",
       "      <th>1789</th>\n",
       "      <td>677547928504967168</td>\n",
       "      <td>NaN</td>\n",
       "      <td>NaN</td>\n",
       "      <td>2015-12-17 17:56:29 +0000</td>\n",
       "      <td>&lt;a href=\"http://twitter.com/download/iphone\" r...</td>\n",
       "      <td>Not much to say here. I just think everyone ne...</td>\n",
       "      <td>NaN</td>\n",
       "      <td>NaN</td>\n",
       "      <td>NaN</td>\n",
       "      <td>https://twitter.com/dog_rates/status/677547928...</td>\n",
       "      <td>12</td>\n",
       "      <td>10</td>\n",
       "      <td>None</td>\n",
       "      <td>None</td>\n",
       "      <td>None</td>\n",
       "      <td>None</td>\n",
       "      <td>None</td>\n",
       "    </tr>\n",
       "    <tr>\n",
       "      <th>160</th>\n",
       "      <td>860924035999428608</td>\n",
       "      <td>NaN</td>\n",
       "      <td>NaN</td>\n",
       "      <td>2017-05-06 18:27:40 +0000</td>\n",
       "      <td>&lt;a href=\"http://twitter.com/download/iphone\" r...</td>\n",
       "      <td>RT @tallylott: h*ckin adorable promposal. 13/1...</td>\n",
       "      <td>8.609145e+17</td>\n",
       "      <td>363890752.0</td>\n",
       "      <td>2017-05-06 17:49:42 +0000</td>\n",
       "      <td>https://twitter.com/tallylott/status/860914485...</td>\n",
       "      <td>13</td>\n",
       "      <td>10</td>\n",
       "      <td>None</td>\n",
       "      <td>None</td>\n",
       "      <td>None</td>\n",
       "      <td>None</td>\n",
       "      <td>None</td>\n",
       "    </tr>\n",
       "    <tr>\n",
       "      <th>62</th>\n",
       "      <td>880095782870896641</td>\n",
       "      <td>NaN</td>\n",
       "      <td>NaN</td>\n",
       "      <td>2017-06-28 16:09:20 +0000</td>\n",
       "      <td>&lt;a href=\"http://twitter.com/download/iphone\" r...</td>\n",
       "      <td>Please don't send in photos without dogs in th...</td>\n",
       "      <td>NaN</td>\n",
       "      <td>NaN</td>\n",
       "      <td>NaN</td>\n",
       "      <td>https://twitter.com/dog_rates/status/880095782...</td>\n",
       "      <td>11</td>\n",
       "      <td>10</td>\n",
       "      <td>None</td>\n",
       "      <td>None</td>\n",
       "      <td>None</td>\n",
       "      <td>None</td>\n",
       "      <td>None</td>\n",
       "    </tr>\n",
       "    <tr>\n",
       "      <th>184</th>\n",
       "      <td>856526610513747968</td>\n",
       "      <td>8.558181e+17</td>\n",
       "      <td>4.196984e+09</td>\n",
       "      <td>2017-04-24 15:13:52 +0000</td>\n",
       "      <td>&lt;a href=\"http://twitter.com/download/iphone\" r...</td>\n",
       "      <td>THIS IS CHARLIE, MARK. HE DID JUST WANT TO SAY...</td>\n",
       "      <td>NaN</td>\n",
       "      <td>NaN</td>\n",
       "      <td>NaN</td>\n",
       "      <td>https://twitter.com/dog_rates/status/856526610...</td>\n",
       "      <td>14</td>\n",
       "      <td>10</td>\n",
       "      <td>None</td>\n",
       "      <td>None</td>\n",
       "      <td>None</td>\n",
       "      <td>None</td>\n",
       "      <td>None</td>\n",
       "    </tr>\n",
       "    <tr>\n",
       "      <th>96</th>\n",
       "      <td>873580283840344065</td>\n",
       "      <td>NaN</td>\n",
       "      <td>NaN</td>\n",
       "      <td>2017-06-10 16:39:04 +0000</td>\n",
       "      <td>&lt;a href=\"http://twitter.com/download/iphone\" r...</td>\n",
       "      <td>We usually don't rate Deck-bound Saskatoon Bla...</td>\n",
       "      <td>NaN</td>\n",
       "      <td>NaN</td>\n",
       "      <td>NaN</td>\n",
       "      <td>https://twitter.com/dog_rates/status/873580283...</td>\n",
       "      <td>13</td>\n",
       "      <td>10</td>\n",
       "      <td>None</td>\n",
       "      <td>None</td>\n",
       "      <td>None</td>\n",
       "      <td>None</td>\n",
       "      <td>None</td>\n",
       "    </tr>\n",
       "    <tr>\n",
       "      <th>125</th>\n",
       "      <td>868622495443632128</td>\n",
       "      <td>NaN</td>\n",
       "      <td>NaN</td>\n",
       "      <td>2017-05-28 00:18:35 +0000</td>\n",
       "      <td>&lt;a href=\"http://twitter.com/download/iphone\" r...</td>\n",
       "      <td>Here's a h*ckin peaceful boy. Unbothered by th...</td>\n",
       "      <td>NaN</td>\n",
       "      <td>NaN</td>\n",
       "      <td>NaN</td>\n",
       "      <td>https://twitter.com/dog_rates/status/868622495...</td>\n",
       "      <td>13</td>\n",
       "      <td>10</td>\n",
       "      <td>None</td>\n",
       "      <td>None</td>\n",
       "      <td>None</td>\n",
       "      <td>None</td>\n",
       "      <td>None</td>\n",
       "    </tr>\n",
       "  </tbody>\n",
       "</table>\n",
       "</div>"
      ],
      "text/plain": [
       "                tweet_id  in_reply_to_status_id  in_reply_to_user_id  \\\n",
       "157   861288531465048066                    NaN                  NaN   \n",
       "493   813202720496779264                    NaN                  NaN   \n",
       "1789  677547928504967168                    NaN                  NaN   \n",
       "160   860924035999428608                    NaN                  NaN   \n",
       "62    880095782870896641                    NaN                  NaN   \n",
       "184   856526610513747968           8.558181e+17         4.196984e+09   \n",
       "96    873580283840344065                    NaN                  NaN   \n",
       "125   868622495443632128                    NaN                  NaN   \n",
       "\n",
       "                      timestamp  \\\n",
       "157   2017-05-07 18:36:02 +0000   \n",
       "493   2016-12-26 02:00:11 +0000   \n",
       "1789  2015-12-17 17:56:29 +0000   \n",
       "160   2017-05-06 18:27:40 +0000   \n",
       "62    2017-06-28 16:09:20 +0000   \n",
       "184   2017-04-24 15:13:52 +0000   \n",
       "96    2017-06-10 16:39:04 +0000   \n",
       "125   2017-05-28 00:18:35 +0000   \n",
       "\n",
       "                                                 source  \\\n",
       "157   <a href=\"http://twitter.com/download/iphone\" r...   \n",
       "493   <a href=\"http://twitter.com/download/iphone\" r...   \n",
       "1789  <a href=\"http://twitter.com/download/iphone\" r...   \n",
       "160   <a href=\"http://twitter.com/download/iphone\" r...   \n",
       "62    <a href=\"http://twitter.com/download/iphone\" r...   \n",
       "184   <a href=\"http://twitter.com/download/iphone\" r...   \n",
       "96    <a href=\"http://twitter.com/download/iphone\" r...   \n",
       "125   <a href=\"http://twitter.com/download/iphone\" r...   \n",
       "\n",
       "                                                   text  retweeted_status_id  \\\n",
       "157   HI. MY. NAME. IS. BOOMER. AND. I. WANT. TO. SA...                  NaN   \n",
       "493   Here's a doggo who has concluded that Christma...                  NaN   \n",
       "1789  Not much to say here. I just think everyone ne...                  NaN   \n",
       "160   RT @tallylott: h*ckin adorable promposal. 13/1...         8.609145e+17   \n",
       "62    Please don't send in photos without dogs in th...                  NaN   \n",
       "184   THIS IS CHARLIE, MARK. HE DID JUST WANT TO SAY...                  NaN   \n",
       "96    We usually don't rate Deck-bound Saskatoon Bla...                  NaN   \n",
       "125   Here's a h*ckin peaceful boy. Unbothered by th...                  NaN   \n",
       "\n",
       "      retweeted_status_user_id retweeted_status_timestamp  \\\n",
       "157                        NaN                        NaN   \n",
       "493                        NaN                        NaN   \n",
       "1789                       NaN                        NaN   \n",
       "160                363890752.0  2017-05-06 17:49:42 +0000   \n",
       "62                         NaN                        NaN   \n",
       "184                        NaN                        NaN   \n",
       "96                         NaN                        NaN   \n",
       "125                        NaN                        NaN   \n",
       "\n",
       "                                          expanded_urls  rating_numerator  \\\n",
       "157   https://twitter.com/dog_rates/status/861288531...                13   \n",
       "493   https://twitter.com/dog_rates/status/813202720...                11   \n",
       "1789  https://twitter.com/dog_rates/status/677547928...                12   \n",
       "160   https://twitter.com/tallylott/status/860914485...                13   \n",
       "62    https://twitter.com/dog_rates/status/880095782...                11   \n",
       "184   https://twitter.com/dog_rates/status/856526610...                14   \n",
       "96    https://twitter.com/dog_rates/status/873580283...                13   \n",
       "125   https://twitter.com/dog_rates/status/868622495...                13   \n",
       "\n",
       "      rating_denominator  name  doggo floofer pupper puppo  \n",
       "157                   10  None   None    None   None  None  \n",
       "493                   10  None  doggo    None   None  None  \n",
       "1789                  10  None   None    None   None  None  \n",
       "160                   10  None   None    None   None  None  \n",
       "62                    10  None   None    None   None  None  \n",
       "184                   10  None   None    None   None  None  \n",
       "96                    10  None   None    None   None  None  \n",
       "125                   10  None   None    None   None  None  "
      ]
     },
     "execution_count": 35,
     "metadata": {},
     "output_type": "execute_result"
    }
   ],
   "source": [
    "#figure out if we're missing names for dogs - looking for items that are lower-cased or otherwise obviously not a name\n",
    "missing_names = tweets_archive[tweets_archive.name.str.contains('^[a-z]|None')]\n",
    "missing_names.sample(8)"
   ]
  },
  {
   "cell_type": "code",
   "execution_count": 36,
   "metadata": {},
   "outputs": [
    {
     "data": {
      "text/plain": [
       "854"
      ]
     },
     "execution_count": 36,
     "metadata": {},
     "output_type": "execute_result"
    }
   ],
   "source": [
    "#determine how many non-dog name \n",
    "len(missing_names)"
   ]
  },
  {
   "cell_type": "markdown",
   "metadata": {},
   "source": [
    "## Issues\n",
    "#### Quality Issues\n",
    "<ol>\n",
    "    <li> Drop replys and retweets. </li>\n",
    "    <li> Ratings with multiple dogs appear to be multiplied by number of dogs in photo. Normalize against denominiator of 10</li>\n",
    "    <li> Wrong dog ratings captured for index values in <code>wrong_dog_rating</code>. Should be replaced by correct ratings </li>\n",
    "    <li><code>no_dog_rating</code> is a tweet with no dog rating and should be dropped</li>\n",
    "    <li> Timestamps are in a string - convert to datetime type</li>\n",
    "    <li> Names include 'None' and other non-name (not capitalized/proper noun) values. To be removed.</li> \n",
    "    <li> Dog type should be a category, not string.</li> \n",
    "    <li> Many missing dog types. </li>\n",
    "    <li> Multiple dog stages for some dogs. Combine with comma'd values </li> \n",
    "</ol>\n",
    "    \n"
   ]
  },
  {
   "cell_type": "markdown",
   "metadata": {},
   "source": [
    "#### Tidiness\n",
    "<ol>\n",
    "    <li> Doggo, Floofer, Puppo and Pupper columns are extraneous. Merge in to one column with type of dog.</li>\n",
    "    <li> Drop extraneous columns. </li>\n",
    "    <li> Merge favorite and retweet counts from `tweets_extended` in to `tweets_archive` </li>\n",
    "</ol>    \n",
    "    "
   ]
  },
  {
   "cell_type": "markdown",
   "metadata": {},
   "source": [
    "\n",
    "\n"
   ]
  },
  {
   "cell_type": "code",
   "execution_count": 333,
   "metadata": {},
   "outputs": [],
   "source": [
    "#make copies of data archives\n",
    "tweets_archive_clean = tweets_archive.copy()\n",
    "tweets_extended_clean = tweets_extended.copy()\n",
    "dog_predictions_clean = dog_predictions.copy()"
   ]
  },
  {
   "cell_type": "markdown",
   "metadata": {},
   "source": [
    "## Quality Cleaning"
   ]
  },
  {
   "cell_type": "markdown",
   "metadata": {},
   "source": [
    "### Quality Issue 1 - Drop Reply and Retweets"
   ]
  },
  {
   "cell_type": "markdown",
   "metadata": {},
   "source": [
    "#### Detail"
   ]
  },
  {
   "cell_type": "markdown",
   "metadata": {},
   "source": [
    "Find all non-null or non-none items under reply or retweet user id's in `tweets_archive` and drop them.  "
   ]
  },
  {
   "cell_type": "markdown",
   "metadata": {},
   "source": [
    "#### Code"
   ]
  },
  {
   "cell_type": "code",
   "execution_count": 334,
   "metadata": {},
   "outputs": [],
   "source": [
    "#match for any values which have both reply and retweet statuses as null\n",
    "mask1 = tweets_archive_clean['in_reply_to_status_id'].isnull()\n",
    "mask2 = tweets_archive_clean['retweeted_status_id'].isnull()\n",
    "tweets_archive_clean = tweets_archive_clean[mask1&mask2]"
   ]
  },
  {
   "cell_type": "markdown",
   "metadata": {},
   "source": [
    "#### Test"
   ]
  },
  {
   "cell_type": "code",
   "execution_count": 335,
   "metadata": {},
   "outputs": [
    {
     "data": {
      "text/plain": [
       "(2097, 2356)"
      ]
     },
     "execution_count": 335,
     "metadata": {},
     "output_type": "execute_result"
    }
   ],
   "source": [
    "#check that we've dropped lines\n",
    "tweets_archive_clean.shape[0], tweets_archive.shape[0]"
   ]
  },
  {
   "cell_type": "code",
   "execution_count": 336,
   "metadata": {},
   "outputs": [
    {
     "data": {
      "text/plain": [
       "array([nan])"
      ]
     },
     "execution_count": 336,
     "metadata": {},
     "output_type": "execute_result"
    }
   ],
   "source": [
    "#check that all remaining values are null\n",
    "tweets_archive_clean['in_reply_to_status_id'].unique()"
   ]
  },
  {
   "cell_type": "code",
   "execution_count": 337,
   "metadata": {},
   "outputs": [
    {
     "data": {
      "text/plain": [
       "array([nan])"
      ]
     },
     "execution_count": 337,
     "metadata": {},
     "output_type": "execute_result"
    }
   ],
   "source": [
    "tweets_archive_clean['retweeted_status_id'].unique()"
   ]
  },
  {
   "cell_type": "code",
   "execution_count": 338,
   "metadata": {
    "scrolled": false
   },
   "outputs": [
    {
     "name": "stdout",
     "output_type": "stream",
     "text": [
      "<class 'pandas.core.frame.DataFrame'>\n",
      "Int64Index: 2097 entries, 0 to 2355\n",
      "Data columns (total 17 columns):\n",
      "tweet_id                      2097 non-null int64\n",
      "in_reply_to_status_id         0 non-null float64\n",
      "in_reply_to_user_id           0 non-null float64\n",
      "timestamp                     2097 non-null object\n",
      "source                        2097 non-null object\n",
      "text                          2097 non-null object\n",
      "retweeted_status_id           0 non-null float64\n",
      "retweeted_status_user_id      0 non-null float64\n",
      "retweeted_status_timestamp    0 non-null object\n",
      "expanded_urls                 2094 non-null object\n",
      "rating_numerator              2097 non-null int64\n",
      "rating_denominator            2097 non-null int64\n",
      "name                          2097 non-null object\n",
      "doggo                         2097 non-null object\n",
      "floofer                       2097 non-null object\n",
      "pupper                        2097 non-null object\n",
      "puppo                         2097 non-null object\n",
      "dtypes: float64(4), int64(3), object(10)\n",
      "memory usage: 294.9+ KB\n"
     ]
    }
   ],
   "source": [
    "tweets_archive_clean.info()"
   ]
  },
  {
   "cell_type": "markdown",
   "metadata": {},
   "source": [
    "### Quality Issue 2 - Multiple Dogs have multiplied ratings"
   ]
  },
  {
   "cell_type": "markdown",
   "metadata": {},
   "source": [
    "#### Detail\n"
   ]
  },
  {
   "cell_type": "markdown",
   "metadata": {},
   "source": [
    "Normalize denomiators and numerators not corresponding to `X / 10` to `X / 10`. Find out ratio for conversion based on moving denominator to a value of `10`, then multipy that by the numerator. Round numerators to the nearest whole number. Convert any intermittent floats to ints. "
   ]
  },
  {
   "cell_type": "markdown",
   "metadata": {},
   "source": [
    "#### Code"
   ]
  },
  {
   "cell_type": "code",
   "execution_count": 339,
   "metadata": {},
   "outputs": [
    {
     "data": {
      "text/plain": [
       "Int64Index([ 313,  342,  433,  784,  902, 1120, 1228, 1254, 1274, 1351, 1433,\n",
       "            1598, 1634, 1635, 1663, 1779, 1843],\n",
       "           dtype='int64')"
      ]
     },
     "execution_count": 339,
     "metadata": {},
     "output_type": "execute_result"
    }
   ],
   "source": [
    "multiple_dog_rating"
   ]
  },
  {
   "cell_type": "code",
   "execution_count": 340,
   "metadata": {},
   "outputs": [],
   "source": [
    "#use index from multiple-dogs identified earlier as mask for the dataframe\n",
    "to_clean = tweets_archive_clean[tweets_archive_clean.index.isin(multiple_dog_rating)][['rating_numerator','rating_denominator']]\n",
    "#adjust numerator by ratio required to change denominator to 10. Round to nearest int.\n",
    "to_clean['rating_numerator'] = np.int64(round((to_clean['rating_numerator'] * (10 / to_clean['rating_denominator']))))\n",
    "to_clean['rating_denominator'] = 10"
   ]
  },
  {
   "cell_type": "code",
   "execution_count": 341,
   "metadata": {},
   "outputs": [],
   "source": [
    "#assign to dataframe \n",
    "tweets_archive_clean.loc[tweets_archive_clean.index.isin(multiple_dog_rating),('rating_numerator','rating_denominator')] = to_clean[['rating_numerator','rating_denominator']]"
   ]
  },
  {
   "cell_type": "markdown",
   "metadata": {},
   "source": [
    "#### Test"
   ]
  },
  {
   "cell_type": "code",
   "execution_count": 342,
   "metadata": {},
   "outputs": [
    {
     "data": {
      "text/html": [
       "<div>\n",
       "<style scoped>\n",
       "    .dataframe tbody tr th:only-of-type {\n",
       "        vertical-align: middle;\n",
       "    }\n",
       "\n",
       "    .dataframe tbody tr th {\n",
       "        vertical-align: top;\n",
       "    }\n",
       "\n",
       "    .dataframe thead th {\n",
       "        text-align: right;\n",
       "    }\n",
       "</style>\n",
       "<table border=\"1\" class=\"dataframe\">\n",
       "  <thead>\n",
       "    <tr style=\"text-align: right;\">\n",
       "      <th></th>\n",
       "      <th>rating_denominator</th>\n",
       "      <th>rating_numerator</th>\n",
       "    </tr>\n",
       "  </thead>\n",
       "  <tbody>\n",
       "    <tr>\n",
       "      <th>433</th>\n",
       "      <td>10</td>\n",
       "      <td>12</td>\n",
       "    </tr>\n",
       "    <tr>\n",
       "      <th>902</th>\n",
       "      <td>10</td>\n",
       "      <td>11</td>\n",
       "    </tr>\n",
       "    <tr>\n",
       "      <th>1120</th>\n",
       "      <td>10</td>\n",
       "      <td>12</td>\n",
       "    </tr>\n",
       "    <tr>\n",
       "      <th>1228</th>\n",
       "      <td>10</td>\n",
       "      <td>11</td>\n",
       "    </tr>\n",
       "    <tr>\n",
       "      <th>1254</th>\n",
       "      <td>10</td>\n",
       "      <td>10</td>\n",
       "    </tr>\n",
       "    <tr>\n",
       "      <th>1274</th>\n",
       "      <td>10</td>\n",
       "      <td>9</td>\n",
       "    </tr>\n",
       "    <tr>\n",
       "      <th>1351</th>\n",
       "      <td>10</td>\n",
       "      <td>12</td>\n",
       "    </tr>\n",
       "    <tr>\n",
       "      <th>1433</th>\n",
       "      <td>10</td>\n",
       "      <td>11</td>\n",
       "    </tr>\n",
       "    <tr>\n",
       "      <th>1635</th>\n",
       "      <td>10</td>\n",
       "      <td>11</td>\n",
       "    </tr>\n",
       "    <tr>\n",
       "      <th>1779</th>\n",
       "      <td>10</td>\n",
       "      <td>12</td>\n",
       "    </tr>\n",
       "    <tr>\n",
       "      <th>1843</th>\n",
       "      <td>10</td>\n",
       "      <td>11</td>\n",
       "    </tr>\n",
       "  </tbody>\n",
       "</table>\n",
       "</div>"
      ],
      "text/plain": [
       "      rating_denominator  rating_numerator\n",
       "433                   10                12\n",
       "902                   10                11\n",
       "1120                  10                12\n",
       "1228                  10                11\n",
       "1254                  10                10\n",
       "1274                  10                 9\n",
       "1351                  10                12\n",
       "1433                  10                11\n",
       "1635                  10                11\n",
       "1779                  10                12\n",
       "1843                  10                11"
      ]
     },
     "execution_count": 342,
     "metadata": {},
     "output_type": "execute_result"
    }
   ],
   "source": [
    "#check if everything is normalized \n",
    "tweets_archive_clean[tweets_archive_clean.index.isin(multiple_dog_rating)][['rating_denominator','rating_numerator']]"
   ]
  },
  {
   "cell_type": "markdown",
   "metadata": {},
   "source": [
    "### Quality Issue 3 - Wrong ratings due to wrong part of text being parsed "
   ]
  },
  {
   "cell_type": "markdown",
   "metadata": {},
   "source": [
    "#### Detail"
   ]
  },
  {
   "cell_type": "markdown",
   "metadata": {},
   "source": [
    "Grab correct ratings through a regular expression - grab all ratings and select the appropriate one. "
   ]
  },
  {
   "cell_type": "markdown",
   "metadata": {},
   "source": [
    "#### Code"
   ]
  },
  {
   "cell_type": "code",
   "execution_count": 343,
   "metadata": {},
   "outputs": [
    {
     "data": {
      "text/plain": [
       "      match\n",
       "1068  0         9/11\n",
       "      1        14/10\n",
       "1165  0         4/20\n",
       "      1        13/10\n",
       "1202  0        50/50\n",
       "      1        11/10\n",
       "1662  0         7/11\n",
       "      1        10/10\n",
       "2335  0         9/10\n",
       "Name: 0, dtype: object"
      ]
     },
     "execution_count": 343,
     "metadata": {},
     "output_type": "execute_result"
    }
   ],
   "source": [
    "#looks like rating values start from the end of the text string. Pull all of the ratings \n",
    "mask = tweets_archive_clean.index.isin(wrong_dog_rating)\n",
    "\n",
    "extracted =tweets_archive_clean[mask].text.str.extractall('([0-9][0-9]*\\/[0-9][0-9])')[0]\n",
    "extracted\n"
   ]
  },
  {
   "cell_type": "code",
   "execution_count": 344,
   "metadata": {},
   "outputs": [],
   "source": [
    "right_ratings = []\n",
    "\n",
    "count = 1\n",
    "#iterate through right_ratings and grab the complete ratings\n",
    "for _ in range(len(extracted)):\n",
    "    right_rating = extracted[count]\n",
    "    right_ratings.append(right_rating)\n",
    "    count += 2\n",
    "    \n",
    "    if count >= len(extracted):\n",
    "        break\n",
    "        \n",
    "#manually add the last missing item\n",
    "right_ratings.append(extracted[8])"
   ]
  },
  {
   "cell_type": "code",
   "execution_count": 345,
   "metadata": {},
   "outputs": [],
   "source": [
    "#split completed ratings by the slash and grab the numerator \n",
    "right_numerator = []\n",
    "\n",
    "for i in right_ratings:\n",
    "    right_numerator.append(i.split('/')[0])"
   ]
  },
  {
   "cell_type": "code",
   "execution_count": 346,
   "metadata": {},
   "outputs": [],
   "source": [
    "#assign numerators to tweets_archive. Assign 10 to denominators.\n",
    "tweets_archive_clean.loc[tweets_archive_clean.index.isin(wrong_dog_rating),('rating_numerator','rating_denominator')] = [right_numerator,10]"
   ]
  },
  {
   "cell_type": "markdown",
   "metadata": {},
   "source": [
    "#### Test"
   ]
  },
  {
   "cell_type": "code",
   "execution_count": 347,
   "metadata": {},
   "outputs": [
    {
     "data": {
      "text/html": [
       "<div>\n",
       "<style scoped>\n",
       "    .dataframe tbody tr th:only-of-type {\n",
       "        vertical-align: middle;\n",
       "    }\n",
       "\n",
       "    .dataframe tbody tr th {\n",
       "        vertical-align: top;\n",
       "    }\n",
       "\n",
       "    .dataframe thead th {\n",
       "        text-align: right;\n",
       "    }\n",
       "</style>\n",
       "<table border=\"1\" class=\"dataframe\">\n",
       "  <thead>\n",
       "    <tr style=\"text-align: right;\">\n",
       "      <th></th>\n",
       "      <th>rating_numerator</th>\n",
       "      <th>rating_denominator</th>\n",
       "    </tr>\n",
       "  </thead>\n",
       "  <tbody>\n",
       "    <tr>\n",
       "      <th>1068</th>\n",
       "      <td>14</td>\n",
       "      <td>10</td>\n",
       "    </tr>\n",
       "    <tr>\n",
       "      <th>1165</th>\n",
       "      <td>13</td>\n",
       "      <td>10</td>\n",
       "    </tr>\n",
       "    <tr>\n",
       "      <th>1202</th>\n",
       "      <td>11</td>\n",
       "      <td>10</td>\n",
       "    </tr>\n",
       "    <tr>\n",
       "      <th>1662</th>\n",
       "      <td>10</td>\n",
       "      <td>10</td>\n",
       "    </tr>\n",
       "    <tr>\n",
       "      <th>2335</th>\n",
       "      <td>9</td>\n",
       "      <td>10</td>\n",
       "    </tr>\n",
       "  </tbody>\n",
       "</table>\n",
       "</div>"
      ],
      "text/plain": [
       "     rating_numerator  rating_denominator\n",
       "1068               14                  10\n",
       "1165               13                  10\n",
       "1202               11                  10\n",
       "1662               10                  10\n",
       "2335                9                  10"
      ]
     },
     "execution_count": 347,
     "metadata": {},
     "output_type": "execute_result"
    }
   ],
   "source": [
    "tweets_archive_clean[tweets_archive_clean.index.isin(wrong_dog_rating)][['rating_numerator','rating_denominator']]"
   ]
  },
  {
   "cell_type": "markdown",
   "metadata": {},
   "source": [
    "### Quality Issue 4 - Drop tweets with no actual dog ratings"
   ]
  },
  {
   "cell_type": "markdown",
   "metadata": {},
   "source": [
    "#### Detail"
   ]
  },
  {
   "cell_type": "markdown",
   "metadata": {},
   "source": [
    "Use the index harvested earlier for the tweet with no actual dog rating and drop it."
   ]
  },
  {
   "cell_type": "markdown",
   "metadata": {},
   "source": [
    "#### Code"
   ]
  },
  {
   "cell_type": "code",
   "execution_count": 348,
   "metadata": {},
   "outputs": [],
   "source": [
    "tweets_archive_clean.drop(no_dog_rating,axis='index',inplace=True)"
   ]
  },
  {
   "cell_type": "markdown",
   "metadata": {},
   "source": [
    "#### Test"
   ]
  },
  {
   "cell_type": "code",
   "execution_count": 349,
   "metadata": {},
   "outputs": [
    {
     "data": {
      "text/plain": [
       "0"
      ]
     },
     "execution_count": 349,
     "metadata": {},
     "output_type": "execute_result"
    }
   ],
   "source": [
    "#should be 0 if it's been deleted appropriately\n",
    "tweets_archive_clean.isin(wrong_dog_rating).tweet_id.sum()"
   ]
  },
  {
   "cell_type": "markdown",
   "metadata": {},
   "source": [
    "### Quality Issue 5 - Timestamps Should Be Date-Time Types"
   ]
  },
  {
   "cell_type": "markdown",
   "metadata": {},
   "source": [
    "#### Detail"
   ]
  },
  {
   "cell_type": "markdown",
   "metadata": {},
   "source": [
    "Timestamp values in `tweets_archive` are all strings. Convert to date-time format. Want ISO style: YYYY-MM-DD HH:MM:SS"
   ]
  },
  {
   "cell_type": "markdown",
   "metadata": {},
   "source": [
    "#### Code"
   ]
  },
  {
   "cell_type": "code",
   "execution_count": 350,
   "metadata": {},
   "outputs": [],
   "source": [
    "tweets_archive_clean['timestamp'] =pd.to_datetime(tweets_archive_clean['timestamp'])"
   ]
  },
  {
   "cell_type": "markdown",
   "metadata": {},
   "source": [
    "#### Test "
   ]
  },
  {
   "cell_type": "code",
   "execution_count": 351,
   "metadata": {},
   "outputs": [
    {
     "name": "stdout",
     "output_type": "stream",
     "text": [
      "<class 'pandas.core.frame.DataFrame'>\n",
      "Int64Index: 2096 entries, 0 to 2355\n",
      "Data columns (total 17 columns):\n",
      "tweet_id                      2096 non-null int64\n",
      "in_reply_to_status_id         0 non-null float64\n",
      "in_reply_to_user_id           0 non-null float64\n",
      "timestamp                     2096 non-null datetime64[ns]\n",
      "source                        2096 non-null object\n",
      "text                          2096 non-null object\n",
      "retweeted_status_id           0 non-null float64\n",
      "retweeted_status_user_id      0 non-null float64\n",
      "retweeted_status_timestamp    0 non-null object\n",
      "expanded_urls                 2093 non-null object\n",
      "rating_numerator              2096 non-null object\n",
      "rating_denominator            2096 non-null int64\n",
      "name                          2096 non-null object\n",
      "doggo                         2096 non-null object\n",
      "floofer                       2096 non-null object\n",
      "pupper                        2096 non-null object\n",
      "puppo                         2096 non-null object\n",
      "dtypes: datetime64[ns](1), float64(4), int64(2), object(10)\n",
      "memory usage: 294.8+ KB\n"
     ]
    }
   ],
   "source": [
    "tweets_archive_clean.info()"
   ]
  },
  {
   "cell_type": "markdown",
   "metadata": {},
   "source": [
    "### Quality Issue 6 - Dog names include \"None\" and other non-name values"
   ]
  },
  {
   "cell_type": "markdown",
   "metadata": {},
   "source": [
    "#### Detail"
   ]
  },
  {
   "cell_type": "markdown",
   "metadata": {},
   "source": [
    "Use `missing_names` generated earlier to replace non-dog names with null values. "
   ]
  },
  {
   "cell_type": "markdown",
   "metadata": {},
   "source": [
    "#### Code "
   ]
  },
  {
   "cell_type": "code",
   "execution_count": 352,
   "metadata": {},
   "outputs": [],
   "source": [
    "tweets_archive_clean['name'] = tweets_archive_clean['name'].replace(missing_names['name'].tolist(),np.NaN)"
   ]
  },
  {
   "cell_type": "markdown",
   "metadata": {},
   "source": [
    "#### Test"
   ]
  },
  {
   "cell_type": "code",
   "execution_count": 353,
   "metadata": {},
   "outputs": [
    {
     "data": {
      "text/plain": [
       "0"
      ]
     },
     "execution_count": 353,
     "metadata": {},
     "output_type": "execute_result"
    }
   ],
   "source": [
    "tweets_archive_clean['name'].isin(missing_names['name'].tolist()).sum()"
   ]
  },
  {
   "cell_type": "markdown",
   "metadata": {},
   "source": [
    "### Tidiness Issue 1 - Merge Extended Data in to One Dataframe"
   ]
  },
  {
   "cell_type": "markdown",
   "metadata": {},
   "source": [
    "#### Detail"
   ]
  },
  {
   "cell_type": "markdown",
   "metadata": {},
   "source": [
    "Merge favorite and retweet counts  from `tweets_extended` on to `tweet_archive`."
   ]
  },
  {
   "cell_type": "markdown",
   "metadata": {},
   "source": [
    "#### Code"
   ]
  },
  {
   "cell_type": "code",
   "execution_count": 354,
   "metadata": {},
   "outputs": [
    {
     "data": {
      "text/plain": [
       "(2096, 2340, 2075)"
      ]
     },
     "execution_count": 354,
     "metadata": {},
     "output_type": "execute_result"
    }
   ],
   "source": [
    "len(tweets_archive_clean['tweet_id']), len(tweets_extended_clean['tweet_id']),len(dog_predictions['tweet_id'])"
   ]
  },
  {
   "cell_type": "code",
   "execution_count": 355,
   "metadata": {},
   "outputs": [],
   "source": [
    "tweets_archive_clean = tweets_archive_clean.merge(tweets_extended_clean,on='tweet_id', how ='left')"
   ]
  },
  {
   "cell_type": "code",
   "execution_count": 356,
   "metadata": {},
   "outputs": [],
   "source": [
    "tweets_archive_clean[['favorite_count','retweet_count']]= tweets_archive_clean[['favorite_count','retweet_count']].dropna()"
   ]
  },
  {
   "cell_type": "code",
   "execution_count": null,
   "metadata": {},
   "outputs": [],
   "source": []
  },
  {
   "cell_type": "markdown",
   "metadata": {},
   "source": [
    "#### Test"
   ]
  },
  {
   "cell_type": "code",
   "execution_count": 357,
   "metadata": {},
   "outputs": [
    {
     "data": {
      "text/html": [
       "<div>\n",
       "<style scoped>\n",
       "    .dataframe tbody tr th:only-of-type {\n",
       "        vertical-align: middle;\n",
       "    }\n",
       "\n",
       "    .dataframe tbody tr th {\n",
       "        vertical-align: top;\n",
       "    }\n",
       "\n",
       "    .dataframe thead th {\n",
       "        text-align: right;\n",
       "    }\n",
       "</style>\n",
       "<table border=\"1\" class=\"dataframe\">\n",
       "  <thead>\n",
       "    <tr style=\"text-align: right;\">\n",
       "      <th></th>\n",
       "      <th>tweet_id</th>\n",
       "      <th>in_reply_to_status_id</th>\n",
       "      <th>in_reply_to_user_id</th>\n",
       "      <th>timestamp</th>\n",
       "      <th>source</th>\n",
       "      <th>text</th>\n",
       "      <th>retweeted_status_id</th>\n",
       "      <th>retweeted_status_user_id</th>\n",
       "      <th>retweeted_status_timestamp</th>\n",
       "      <th>expanded_urls</th>\n",
       "      <th>rating_numerator</th>\n",
       "      <th>rating_denominator</th>\n",
       "      <th>name</th>\n",
       "      <th>doggo</th>\n",
       "      <th>floofer</th>\n",
       "      <th>pupper</th>\n",
       "      <th>puppo</th>\n",
       "      <th>favorite_count</th>\n",
       "      <th>retweet_count</th>\n",
       "    </tr>\n",
       "  </thead>\n",
       "  <tbody>\n",
       "    <tr>\n",
       "      <th>0</th>\n",
       "      <td>892420643555336193</td>\n",
       "      <td>NaN</td>\n",
       "      <td>NaN</td>\n",
       "      <td>2017-08-01 16:23:56</td>\n",
       "      <td>&lt;a href=\"http://twitter.com/download/iphone\" r...</td>\n",
       "      <td>This is Phineas. He's a mystical boy. Only eve...</td>\n",
       "      <td>NaN</td>\n",
       "      <td>NaN</td>\n",
       "      <td>NaN</td>\n",
       "      <td>https://twitter.com/dog_rates/status/892420643...</td>\n",
       "      <td>13</td>\n",
       "      <td>10</td>\n",
       "      <td>Phineas</td>\n",
       "      <td>None</td>\n",
       "      <td>None</td>\n",
       "      <td>None</td>\n",
       "      <td>None</td>\n",
       "      <td>38033.0</td>\n",
       "      <td>8320.0</td>\n",
       "    </tr>\n",
       "    <tr>\n",
       "      <th>1</th>\n",
       "      <td>892177421306343426</td>\n",
       "      <td>NaN</td>\n",
       "      <td>NaN</td>\n",
       "      <td>2017-08-01 00:17:27</td>\n",
       "      <td>&lt;a href=\"http://twitter.com/download/iphone\" r...</td>\n",
       "      <td>This is Tilly. She's just checking pup on you....</td>\n",
       "      <td>NaN</td>\n",
       "      <td>NaN</td>\n",
       "      <td>NaN</td>\n",
       "      <td>https://twitter.com/dog_rates/status/892177421...</td>\n",
       "      <td>13</td>\n",
       "      <td>10</td>\n",
       "      <td>Tilly</td>\n",
       "      <td>None</td>\n",
       "      <td>None</td>\n",
       "      <td>None</td>\n",
       "      <td>None</td>\n",
       "      <td>32657.0</td>\n",
       "      <td>6144.0</td>\n",
       "    </tr>\n",
       "    <tr>\n",
       "      <th>2</th>\n",
       "      <td>891815181378084864</td>\n",
       "      <td>NaN</td>\n",
       "      <td>NaN</td>\n",
       "      <td>2017-07-31 00:18:03</td>\n",
       "      <td>&lt;a href=\"http://twitter.com/download/iphone\" r...</td>\n",
       "      <td>This is Archie. He is a rare Norwegian Pouncin...</td>\n",
       "      <td>NaN</td>\n",
       "      <td>NaN</td>\n",
       "      <td>NaN</td>\n",
       "      <td>https://twitter.com/dog_rates/status/891815181...</td>\n",
       "      <td>12</td>\n",
       "      <td>10</td>\n",
       "      <td>Archie</td>\n",
       "      <td>None</td>\n",
       "      <td>None</td>\n",
       "      <td>None</td>\n",
       "      <td>None</td>\n",
       "      <td>24582.0</td>\n",
       "      <td>4068.0</td>\n",
       "    </tr>\n",
       "    <tr>\n",
       "      <th>3</th>\n",
       "      <td>891689557279858688</td>\n",
       "      <td>NaN</td>\n",
       "      <td>NaN</td>\n",
       "      <td>2017-07-30 15:58:51</td>\n",
       "      <td>&lt;a href=\"http://twitter.com/download/iphone\" r...</td>\n",
       "      <td>This is Darla. She commenced a snooze mid meal...</td>\n",
       "      <td>NaN</td>\n",
       "      <td>NaN</td>\n",
       "      <td>NaN</td>\n",
       "      <td>https://twitter.com/dog_rates/status/891689557...</td>\n",
       "      <td>13</td>\n",
       "      <td>10</td>\n",
       "      <td>Darla</td>\n",
       "      <td>None</td>\n",
       "      <td>None</td>\n",
       "      <td>None</td>\n",
       "      <td>None</td>\n",
       "      <td>41383.0</td>\n",
       "      <td>8453.0</td>\n",
       "    </tr>\n",
       "    <tr>\n",
       "      <th>4</th>\n",
       "      <td>891327558926688256</td>\n",
       "      <td>NaN</td>\n",
       "      <td>NaN</td>\n",
       "      <td>2017-07-29 16:00:24</td>\n",
       "      <td>&lt;a href=\"http://twitter.com/download/iphone\" r...</td>\n",
       "      <td>This is Franklin. He would like you to stop ca...</td>\n",
       "      <td>NaN</td>\n",
       "      <td>NaN</td>\n",
       "      <td>NaN</td>\n",
       "      <td>https://twitter.com/dog_rates/status/891327558...</td>\n",
       "      <td>12</td>\n",
       "      <td>10</td>\n",
       "      <td>Franklin</td>\n",
       "      <td>None</td>\n",
       "      <td>None</td>\n",
       "      <td>None</td>\n",
       "      <td>None</td>\n",
       "      <td>39574.0</td>\n",
       "      <td>9162.0</td>\n",
       "    </tr>\n",
       "  </tbody>\n",
       "</table>\n",
       "</div>"
      ],
      "text/plain": [
       "             tweet_id  in_reply_to_status_id  in_reply_to_user_id  \\\n",
       "0  892420643555336193                    NaN                  NaN   \n",
       "1  892177421306343426                    NaN                  NaN   \n",
       "2  891815181378084864                    NaN                  NaN   \n",
       "3  891689557279858688                    NaN                  NaN   \n",
       "4  891327558926688256                    NaN                  NaN   \n",
       "\n",
       "            timestamp                                             source  \\\n",
       "0 2017-08-01 16:23:56  <a href=\"http://twitter.com/download/iphone\" r...   \n",
       "1 2017-08-01 00:17:27  <a href=\"http://twitter.com/download/iphone\" r...   \n",
       "2 2017-07-31 00:18:03  <a href=\"http://twitter.com/download/iphone\" r...   \n",
       "3 2017-07-30 15:58:51  <a href=\"http://twitter.com/download/iphone\" r...   \n",
       "4 2017-07-29 16:00:24  <a href=\"http://twitter.com/download/iphone\" r...   \n",
       "\n",
       "                                                text  retweeted_status_id  \\\n",
       "0  This is Phineas. He's a mystical boy. Only eve...                  NaN   \n",
       "1  This is Tilly. She's just checking pup on you....                  NaN   \n",
       "2  This is Archie. He is a rare Norwegian Pouncin...                  NaN   \n",
       "3  This is Darla. She commenced a snooze mid meal...                  NaN   \n",
       "4  This is Franklin. He would like you to stop ca...                  NaN   \n",
       "\n",
       "   retweeted_status_user_id retweeted_status_timestamp  \\\n",
       "0                       NaN                        NaN   \n",
       "1                       NaN                        NaN   \n",
       "2                       NaN                        NaN   \n",
       "3                       NaN                        NaN   \n",
       "4                       NaN                        NaN   \n",
       "\n",
       "                                       expanded_urls rating_numerator  \\\n",
       "0  https://twitter.com/dog_rates/status/892420643...               13   \n",
       "1  https://twitter.com/dog_rates/status/892177421...               13   \n",
       "2  https://twitter.com/dog_rates/status/891815181...               12   \n",
       "3  https://twitter.com/dog_rates/status/891689557...               13   \n",
       "4  https://twitter.com/dog_rates/status/891327558...               12   \n",
       "\n",
       "   rating_denominator      name doggo floofer pupper puppo  favorite_count  \\\n",
       "0                  10   Phineas  None    None   None  None         38033.0   \n",
       "1                  10     Tilly  None    None   None  None         32657.0   \n",
       "2                  10    Archie  None    None   None  None         24582.0   \n",
       "3                  10     Darla  None    None   None  None         41383.0   \n",
       "4                  10  Franklin  None    None   None  None         39574.0   \n",
       "\n",
       "   retweet_count  \n",
       "0         8320.0  \n",
       "1         6144.0  \n",
       "2         4068.0  \n",
       "3         8453.0  \n",
       "4         9162.0  "
      ]
     },
     "execution_count": 357,
     "metadata": {},
     "output_type": "execute_result"
    }
   ],
   "source": [
    "tweets_archive_clean.head()"
   ]
  },
  {
   "cell_type": "code",
   "execution_count": 358,
   "metadata": {},
   "outputs": [
    {
     "name": "stdout",
     "output_type": "stream",
     "text": [
      "<class 'pandas.core.frame.DataFrame'>\n",
      "Int64Index: 2096 entries, 0 to 2095\n",
      "Data columns (total 19 columns):\n",
      "tweet_id                      2096 non-null int64\n",
      "in_reply_to_status_id         0 non-null float64\n",
      "in_reply_to_user_id           0 non-null float64\n",
      "timestamp                     2096 non-null datetime64[ns]\n",
      "source                        2096 non-null object\n",
      "text                          2096 non-null object\n",
      "retweeted_status_id           0 non-null float64\n",
      "retweeted_status_user_id      0 non-null float64\n",
      "retweeted_status_timestamp    0 non-null object\n",
      "expanded_urls                 2093 non-null object\n",
      "rating_numerator              2096 non-null object\n",
      "rating_denominator            2096 non-null int64\n",
      "name                          1389 non-null object\n",
      "doggo                         2096 non-null object\n",
      "floofer                       2096 non-null object\n",
      "pupper                        2096 non-null object\n",
      "puppo                         2096 non-null object\n",
      "favorite_count                2094 non-null float64\n",
      "retweet_count                 2094 non-null float64\n",
      "dtypes: datetime64[ns](1), float64(6), int64(2), object(10)\n",
      "memory usage: 327.5+ KB\n"
     ]
    }
   ],
   "source": [
    "tweets_archive_clean.info()"
   ]
  },
  {
   "cell_type": "markdown",
   "metadata": {},
   "source": [
    "### Tidiness Issue 2 - Merge various dog-type columns in to one column"
   ]
  },
  {
   "cell_type": "markdown",
   "metadata": {},
   "source": [
    "#### Detail"
   ]
  },
  {
   "cell_type": "markdown",
   "metadata": {},
   "source": [
    "Combine values from dog-type columns, then drop all 'None' values. "
   ]
  },
  {
   "cell_type": "markdown",
   "metadata": {},
   "source": [
    "#### Code"
   ]
  },
  {
   "cell_type": "code",
   "execution_count": 359,
   "metadata": {},
   "outputs": [],
   "source": [
    "#tweets_archive_clean['dog_type'] = \n",
    "tweets_archive_clean['dog_type'] = tweets_archive_clean[['doggo','floofer','pupper','puppo']].apply(\n",
    "    lambda x: ''.join(x),\n",
    "    axis=1)\n",
    "tweets_archive_clean['dog_type'].replace('None','',regex=True,inplace=True)\n",
    "tweets_archive_clean['dog_type']= tweets_archive_clean['dog_type'].astype('category')"
   ]
  },
  {
   "cell_type": "markdown",
   "metadata": {},
   "source": [
    "#### Test"
   ]
  },
  {
   "cell_type": "code",
   "execution_count": 360,
   "metadata": {},
   "outputs": [
    {
     "data": {
      "text/html": [
       "<div>\n",
       "<style scoped>\n",
       "    .dataframe tbody tr th:only-of-type {\n",
       "        vertical-align: middle;\n",
       "    }\n",
       "\n",
       "    .dataframe tbody tr th {\n",
       "        vertical-align: top;\n",
       "    }\n",
       "\n",
       "    .dataframe thead th {\n",
       "        text-align: right;\n",
       "    }\n",
       "</style>\n",
       "<table border=\"1\" class=\"dataframe\">\n",
       "  <thead>\n",
       "    <tr style=\"text-align: right;\">\n",
       "      <th></th>\n",
       "      <th>tweet_id</th>\n",
       "      <th>in_reply_to_status_id</th>\n",
       "      <th>in_reply_to_user_id</th>\n",
       "      <th>timestamp</th>\n",
       "      <th>source</th>\n",
       "      <th>text</th>\n",
       "      <th>retweeted_status_id</th>\n",
       "      <th>retweeted_status_user_id</th>\n",
       "      <th>retweeted_status_timestamp</th>\n",
       "      <th>expanded_urls</th>\n",
       "      <th>rating_numerator</th>\n",
       "      <th>rating_denominator</th>\n",
       "      <th>name</th>\n",
       "      <th>doggo</th>\n",
       "      <th>floofer</th>\n",
       "      <th>pupper</th>\n",
       "      <th>puppo</th>\n",
       "      <th>favorite_count</th>\n",
       "      <th>retweet_count</th>\n",
       "      <th>dog_type</th>\n",
       "    </tr>\n",
       "  </thead>\n",
       "  <tbody>\n",
       "    <tr>\n",
       "      <th>0</th>\n",
       "      <td>892420643555336193</td>\n",
       "      <td>NaN</td>\n",
       "      <td>NaN</td>\n",
       "      <td>2017-08-01 16:23:56</td>\n",
       "      <td>&lt;a href=\"http://twitter.com/download/iphone\" r...</td>\n",
       "      <td>This is Phineas. He's a mystical boy. Only eve...</td>\n",
       "      <td>NaN</td>\n",
       "      <td>NaN</td>\n",
       "      <td>NaN</td>\n",
       "      <td>https://twitter.com/dog_rates/status/892420643...</td>\n",
       "      <td>13</td>\n",
       "      <td>10</td>\n",
       "      <td>Phineas</td>\n",
       "      <td>None</td>\n",
       "      <td>None</td>\n",
       "      <td>None</td>\n",
       "      <td>None</td>\n",
       "      <td>38033.0</td>\n",
       "      <td>8320.0</td>\n",
       "      <td></td>\n",
       "    </tr>\n",
       "    <tr>\n",
       "      <th>1</th>\n",
       "      <td>892177421306343426</td>\n",
       "      <td>NaN</td>\n",
       "      <td>NaN</td>\n",
       "      <td>2017-08-01 00:17:27</td>\n",
       "      <td>&lt;a href=\"http://twitter.com/download/iphone\" r...</td>\n",
       "      <td>This is Tilly. She's just checking pup on you....</td>\n",
       "      <td>NaN</td>\n",
       "      <td>NaN</td>\n",
       "      <td>NaN</td>\n",
       "      <td>https://twitter.com/dog_rates/status/892177421...</td>\n",
       "      <td>13</td>\n",
       "      <td>10</td>\n",
       "      <td>Tilly</td>\n",
       "      <td>None</td>\n",
       "      <td>None</td>\n",
       "      <td>None</td>\n",
       "      <td>None</td>\n",
       "      <td>32657.0</td>\n",
       "      <td>6144.0</td>\n",
       "      <td></td>\n",
       "    </tr>\n",
       "    <tr>\n",
       "      <th>2</th>\n",
       "      <td>891815181378084864</td>\n",
       "      <td>NaN</td>\n",
       "      <td>NaN</td>\n",
       "      <td>2017-07-31 00:18:03</td>\n",
       "      <td>&lt;a href=\"http://twitter.com/download/iphone\" r...</td>\n",
       "      <td>This is Archie. He is a rare Norwegian Pouncin...</td>\n",
       "      <td>NaN</td>\n",
       "      <td>NaN</td>\n",
       "      <td>NaN</td>\n",
       "      <td>https://twitter.com/dog_rates/status/891815181...</td>\n",
       "      <td>12</td>\n",
       "      <td>10</td>\n",
       "      <td>Archie</td>\n",
       "      <td>None</td>\n",
       "      <td>None</td>\n",
       "      <td>None</td>\n",
       "      <td>None</td>\n",
       "      <td>24582.0</td>\n",
       "      <td>4068.0</td>\n",
       "      <td></td>\n",
       "    </tr>\n",
       "    <tr>\n",
       "      <th>3</th>\n",
       "      <td>891689557279858688</td>\n",
       "      <td>NaN</td>\n",
       "      <td>NaN</td>\n",
       "      <td>2017-07-30 15:58:51</td>\n",
       "      <td>&lt;a href=\"http://twitter.com/download/iphone\" r...</td>\n",
       "      <td>This is Darla. She commenced a snooze mid meal...</td>\n",
       "      <td>NaN</td>\n",
       "      <td>NaN</td>\n",
       "      <td>NaN</td>\n",
       "      <td>https://twitter.com/dog_rates/status/891689557...</td>\n",
       "      <td>13</td>\n",
       "      <td>10</td>\n",
       "      <td>Darla</td>\n",
       "      <td>None</td>\n",
       "      <td>None</td>\n",
       "      <td>None</td>\n",
       "      <td>None</td>\n",
       "      <td>41383.0</td>\n",
       "      <td>8453.0</td>\n",
       "      <td></td>\n",
       "    </tr>\n",
       "    <tr>\n",
       "      <th>4</th>\n",
       "      <td>891327558926688256</td>\n",
       "      <td>NaN</td>\n",
       "      <td>NaN</td>\n",
       "      <td>2017-07-29 16:00:24</td>\n",
       "      <td>&lt;a href=\"http://twitter.com/download/iphone\" r...</td>\n",
       "      <td>This is Franklin. He would like you to stop ca...</td>\n",
       "      <td>NaN</td>\n",
       "      <td>NaN</td>\n",
       "      <td>NaN</td>\n",
       "      <td>https://twitter.com/dog_rates/status/891327558...</td>\n",
       "      <td>12</td>\n",
       "      <td>10</td>\n",
       "      <td>Franklin</td>\n",
       "      <td>None</td>\n",
       "      <td>None</td>\n",
       "      <td>None</td>\n",
       "      <td>None</td>\n",
       "      <td>39574.0</td>\n",
       "      <td>9162.0</td>\n",
       "      <td></td>\n",
       "    </tr>\n",
       "  </tbody>\n",
       "</table>\n",
       "</div>"
      ],
      "text/plain": [
       "             tweet_id  in_reply_to_status_id  in_reply_to_user_id  \\\n",
       "0  892420643555336193                    NaN                  NaN   \n",
       "1  892177421306343426                    NaN                  NaN   \n",
       "2  891815181378084864                    NaN                  NaN   \n",
       "3  891689557279858688                    NaN                  NaN   \n",
       "4  891327558926688256                    NaN                  NaN   \n",
       "\n",
       "            timestamp                                             source  \\\n",
       "0 2017-08-01 16:23:56  <a href=\"http://twitter.com/download/iphone\" r...   \n",
       "1 2017-08-01 00:17:27  <a href=\"http://twitter.com/download/iphone\" r...   \n",
       "2 2017-07-31 00:18:03  <a href=\"http://twitter.com/download/iphone\" r...   \n",
       "3 2017-07-30 15:58:51  <a href=\"http://twitter.com/download/iphone\" r...   \n",
       "4 2017-07-29 16:00:24  <a href=\"http://twitter.com/download/iphone\" r...   \n",
       "\n",
       "                                                text  retweeted_status_id  \\\n",
       "0  This is Phineas. He's a mystical boy. Only eve...                  NaN   \n",
       "1  This is Tilly. She's just checking pup on you....                  NaN   \n",
       "2  This is Archie. He is a rare Norwegian Pouncin...                  NaN   \n",
       "3  This is Darla. She commenced a snooze mid meal...                  NaN   \n",
       "4  This is Franklin. He would like you to stop ca...                  NaN   \n",
       "\n",
       "   retweeted_status_user_id retweeted_status_timestamp  \\\n",
       "0                       NaN                        NaN   \n",
       "1                       NaN                        NaN   \n",
       "2                       NaN                        NaN   \n",
       "3                       NaN                        NaN   \n",
       "4                       NaN                        NaN   \n",
       "\n",
       "                                       expanded_urls rating_numerator  \\\n",
       "0  https://twitter.com/dog_rates/status/892420643...               13   \n",
       "1  https://twitter.com/dog_rates/status/892177421...               13   \n",
       "2  https://twitter.com/dog_rates/status/891815181...               12   \n",
       "3  https://twitter.com/dog_rates/status/891689557...               13   \n",
       "4  https://twitter.com/dog_rates/status/891327558...               12   \n",
       "\n",
       "   rating_denominator      name doggo floofer pupper puppo  favorite_count  \\\n",
       "0                  10   Phineas  None    None   None  None         38033.0   \n",
       "1                  10     Tilly  None    None   None  None         32657.0   \n",
       "2                  10    Archie  None    None   None  None         24582.0   \n",
       "3                  10     Darla  None    None   None  None         41383.0   \n",
       "4                  10  Franklin  None    None   None  None         39574.0   \n",
       "\n",
       "   retweet_count dog_type  \n",
       "0         8320.0           \n",
       "1         6144.0           \n",
       "2         4068.0           \n",
       "3         8453.0           \n",
       "4         9162.0           "
      ]
     },
     "execution_count": 360,
     "metadata": {},
     "output_type": "execute_result"
    }
   ],
   "source": [
    "tweets_archive_clean.head()"
   ]
  },
  {
   "cell_type": "code",
   "execution_count": 361,
   "metadata": {},
   "outputs": [
    {
     "data": {
      "text/plain": [
       "[, doggo, puppo, pupper, floofer, doggopuppo, doggofloofer, doggopupper]\n",
       "Categories (8, object): [, doggo, puppo, pupper, floofer, doggopuppo, doggofloofer, doggopupper]"
      ]
     },
     "execution_count": 361,
     "metadata": {},
     "output_type": "execute_result"
    }
   ],
   "source": [
    "tweets_archive_clean['dog_type'].unique()"
   ]
  },
  {
   "cell_type": "markdown",
   "metadata": {},
   "source": [
    "There are some dogs with multiple category types. Let's break off from cleaning and determine what to do with them. "
   ]
  },
  {
   "cell_type": "markdown",
   "metadata": {},
   "source": [
    "### Assess - Multi-category dogs"
   ]
  },
  {
   "cell_type": "code",
   "execution_count": 362,
   "metadata": {
    "scrolled": true
   },
   "outputs": [],
   "source": [
    "multi_dog_text = tweets_archive_clean[tweets_archive_clean['dog_type'].isin(['doggopuppo','doggofloofer','doggopupper'])]"
   ]
  },
  {
   "cell_type": "code",
   "execution_count": 366,
   "metadata": {},
   "outputs": [
    {
     "data": {
      "text/plain": [
       "154    Here's a puppo participating in the #ScienceMa...\n",
       "161    At first I thought this was a shy doggo, but i...\n",
       "358    This is Dido. She's playing the lead role in \"...\n",
       "415    Here we have Burke (pupper) and Dexter (doggo)...\n",
       "445    This is Bones. He's being haunted by another d...\n",
       "535    This is Pinot. He's a sophisticated doggo. You...\n",
       "561    Pupper butt 1, Doggo 0. Both 12/10 https://t.c...\n",
       "688    Meet Maggie &amp; Lila. Maggie is the doggo, L...\n",
       "747    Please stop sending it pictures that don't eve...\n",
       "847    This is just downright precious af. 12/10 for ...\n",
       "896    Like father (doggo), like son (pupper). Both 1...\n",
       "Name: text, dtype: object"
      ]
     },
     "execution_count": 366,
     "metadata": {},
     "output_type": "execute_result"
    }
   ],
   "source": [
    "multi_dog_text.text"
   ]
  },
  {
   "cell_type": "code",
   "execution_count": 374,
   "metadata": {},
   "outputs": [
    {
     "name": "stdout",
     "output_type": "stream",
     "text": [
      "(154, \"Here's a puppo participating in the #ScienceMarch. Cleverly disguising her own doggo agenda. 13/10 would keep the planet habitable for https://t.co/cMhq16isel\")\n",
      "(161, \"At first I thought this was a shy doggo, but it's actually a Rare Canadian Floofer Owl. Amateurs would confuse the two. 11/10 only send dogs https://t.co/TXdT3tmuYk\")\n",
      "(358, 'This is Dido. She\\'s playing the lead role in \"Pupper Stops to Catch Snow Before Resuming Shadow Box with Dried Apple.\" 13/10 (IG: didodoggo) https://t.co/m7isZrOBX7')\n",
      "(415, 'Here we have Burke (pupper) and Dexter (doggo). Pupper wants to be exactly like doggo. Both 12/10 would pet at same time https://t.co/ANBpEYHaho')\n",
      "(445, \"This is Bones. He's being haunted by another doggo of roughly the same size. 12/10 deep breaths pupper everything's fine https://t.co/55Dqe0SJNj\")\n",
      "(535, \"This is Pinot. He's a sophisticated doggo. You can tell by the hat. Also pointier than your average pupper. Still 10/10 would pet cautiously https://t.co/f2wmLZTPHd\")\n",
      "(561, 'Pupper butt 1, Doggo 0. Both 12/10 https://t.co/WQvcPEpH2u')\n",
      "(688, 'Meet Maggie &amp; Lila. Maggie is the doggo, Lila is the pupper. They are sisters. Both 12/10 would pet at the same time https://t.co/MYwR4DQKll')\n",
      "(747, \"Please stop sending it pictures that don't even have a doggo or pupper in them. Churlish af. 5/10 neat couch tho https://t.co/u2c9c7qSg8\")\n",
      "(847, 'This is just downright precious af. 12/10 for both pupper and doggo https://t.co/o5J479bZUC')\n",
      "(896, 'Like father (doggo), like son (pupper). Both 12/10 https://t.co/pG2inLaOda')\n"
     ]
    }
   ],
   "source": [
    "#look through text and pictures as necessary to categorize differences. \n",
    "for text in multi_dog_text['text'].iteritems():\n",
    "    print(text)"
   ]
  },
  {
   "cell_type": "code",
   "execution_count": 375,
   "metadata": {},
   "outputs": [],
   "source": [
    "puppo_only = [154,358,445]\n",
    "doggo_only = [161,535,747]\n",
    "multi_dog = [415,561,688,847,896] #typically one doggo and one pupper\n",
    "\n"
   ]
  },
  {
   "cell_type": "markdown",
   "metadata": {},
   "source": [
    "### Quality Issue 7  - Fix dog-type for tweets with multiple categories"
   ]
  },
  {
   "cell_type": "markdown",
   "metadata": {},
   "source": [
    "#### Detail"
   ]
  },
  {
   "cell_type": "markdown",
   "metadata": {},
   "source": [
    "Use indexes from assessed texts to assign proper value to `dog_type` for those values. Assign the value 'pair' for mutli_dog items."
   ]
  },
  {
   "cell_type": "markdown",
   "metadata": {},
   "source": [
    "#### Code"
   ]
  },
  {
   "cell_type": "code",
   "execution_count": 381,
   "metadata": {},
   "outputs": [],
   "source": [
    "tweets_archive_clean.loc[puppo_only].dog_type = 'puppo'\n",
    "tweets_archive_clean.loc[doggo_only].dog_type = 'doggo'\n",
    "tweets_archive_clean.loc[multi_dog].dog_type = 'pair'"
   ]
  },
  {
   "cell_type": "markdown",
   "metadata": {},
   "source": [
    "#### Test"
   ]
  },
  {
   "cell_type": "code",
   "execution_count": 382,
   "metadata": {},
   "outputs": [
    {
     "name": "stdout",
     "output_type": "stream",
     "text": [
      "<class 'pandas.core.frame.DataFrame'>\n",
      "Int64Index: 2096 entries, 0 to 2095\n",
      "Data columns (total 20 columns):\n",
      "tweet_id                      2096 non-null int64\n",
      "in_reply_to_status_id         0 non-null float64\n",
      "in_reply_to_user_id           0 non-null float64\n",
      "timestamp                     2096 non-null datetime64[ns]\n",
      "source                        2096 non-null object\n",
      "text                          2096 non-null object\n",
      "retweeted_status_id           0 non-null float64\n",
      "retweeted_status_user_id      0 non-null float64\n",
      "retweeted_status_timestamp    0 non-null object\n",
      "expanded_urls                 2093 non-null object\n",
      "rating_numerator              2096 non-null object\n",
      "rating_denominator            2096 non-null int64\n",
      "name                          1389 non-null object\n",
      "doggo                         2096 non-null object\n",
      "floofer                       2096 non-null object\n",
      "pupper                        2096 non-null object\n",
      "puppo                         2096 non-null object\n",
      "favorite_count                2094 non-null float64\n",
      "retweet_count                 2094 non-null float64\n",
      "dog_type                      2096 non-null category\n",
      "dtypes: category(1), datetime64[ns](1), float64(6), int64(2), object(10)\n",
      "memory usage: 409.9+ KB\n"
     ]
    }
   ],
   "source": [
    "tweets_archive_clean.info()"
   ]
  },
  {
   "cell_type": "code",
   "execution_count": 383,
   "metadata": {},
   "outputs": [
    {
     "data": {
      "text/plain": [
       "[, doggo, puppo, pupper, floofer, doggopuppo, doggofloofer, doggopupper]\n",
       "Categories (8, object): [, doggo, puppo, pupper, floofer, doggopuppo, doggofloofer, doggopupper]"
      ]
     },
     "execution_count": 383,
     "metadata": {},
     "output_type": "execute_result"
    }
   ],
   "source": [
    "tweets_archive_clean.dog_type.unique()"
   ]
  },
  {
   "cell_type": "markdown",
   "metadata": {},
   "source": [
    "### Issue 3 - Drop Extraneous Columns "
   ]
  },
  {
   "cell_type": "markdown",
   "metadata": {},
   "source": [
    "#### Detail"
   ]
  },
  {
   "cell_type": "markdown",
   "metadata": {},
   "source": [
    "Drop extraneous columns, i.e. all columns with NaN values."
   ]
  },
  {
   "cell_type": "markdown",
   "metadata": {},
   "source": [
    "#### Code"
   ]
  },
  {
   "cell_type": "code",
   "execution_count": 65,
   "metadata": {},
   "outputs": [],
   "source": [
    "tweets_archive_clean.dropna(axis = 'columns',how='all',inplace=True)"
   ]
  },
  {
   "cell_type": "markdown",
   "metadata": {},
   "source": [
    "#### Test"
   ]
  },
  {
   "cell_type": "code",
   "execution_count": 66,
   "metadata": {},
   "outputs": [
    {
     "name": "stdout",
     "output_type": "stream",
     "text": [
      "<class 'pandas.core.frame.DataFrame'>\n",
      "Int64Index: 1968 entries, 0 to 1967\n",
      "Data columns (total 25 columns):\n",
      "tweet_id              1968 non-null int64\n",
      "timestamp             1968 non-null datetime64[ns]\n",
      "source                1968 non-null object\n",
      "text                  1968 non-null object\n",
      "expanded_urls         1968 non-null object\n",
      "rating_numerator      1968 non-null object\n",
      "rating_denominator    1968 non-null int64\n",
      "name                  1346 non-null object\n",
      "doggo                 1968 non-null category\n",
      "floofer               1968 non-null category\n",
      "pupper                1968 non-null category\n",
      "puppo                 1968 non-null category\n",
      "favorite_count        1968 non-null int64\n",
      "retweet_count         1968 non-null int64\n",
      "jpg_url               1968 non-null object\n",
      "img_num               1968 non-null int64\n",
      "p1                    1968 non-null object\n",
      "p1_conf               1968 non-null float64\n",
      "p1_dog                1968 non-null bool\n",
      "p2                    1968 non-null object\n",
      "p2_conf               1968 non-null float64\n",
      "p2_dog                1968 non-null bool\n",
      "p3                    1968 non-null object\n",
      "p3_conf               1968 non-null float64\n",
      "p3_dog                1968 non-null bool\n",
      "dtypes: bool(3), category(4), datetime64[ns](1), float64(3), int64(5), object(9)\n",
      "memory usage: 306.0+ KB\n"
     ]
    }
   ],
   "source": [
    "tweets_archive_clean.info()"
   ]
  },
  {
   "cell_type": "code",
   "execution_count": null,
   "metadata": {},
   "outputs": [],
   "source": []
  },
  {
   "cell_type": "markdown",
   "metadata": {},
   "source": [
    "### Quality Issue 8 -  Fix datatypes"
   ]
  },
  {
   "cell_type": "markdown",
   "metadata": {},
   "source": [
    "#### Detail"
   ]
  },
  {
   "cell_type": "markdown",
   "metadata": {},
   "source": [
    "Convert all dog types, doggo, floofer, pupper, puppo in `tweets_archive` to category type."
   ]
  },
  {
   "cell_type": "markdown",
   "metadata": {},
   "source": [
    "#### Code"
   ]
  },
  {
   "cell_type": "code",
   "execution_count": 284,
   "metadata": {},
   "outputs": [],
   "source": [
    "tweets_archive_clean[['doggo','floofer','pupper','puppo']] =tweets_archive_clean[['doggo','floofer','pupper','puppo']].astype('category')"
   ]
  },
  {
   "cell_type": "markdown",
   "metadata": {},
   "source": [
    "#### Test"
   ]
  },
  {
   "cell_type": "code",
   "execution_count": 285,
   "metadata": {
    "scrolled": true
   },
   "outputs": [
    {
     "name": "stdout",
     "output_type": "stream",
     "text": [
      "<class 'pandas.core.frame.DataFrame'>\n",
      "Int64Index: 2096 entries, 0 to 2355\n",
      "Data columns (total 17 columns):\n",
      "tweet_id                      2096 non-null int64\n",
      "in_reply_to_status_id         0 non-null float64\n",
      "in_reply_to_user_id           0 non-null float64\n",
      "timestamp                     2096 non-null datetime64[ns]\n",
      "source                        2096 non-null object\n",
      "text                          2096 non-null object\n",
      "retweeted_status_id           0 non-null float64\n",
      "retweeted_status_user_id      0 non-null float64\n",
      "retweeted_status_timestamp    0 non-null object\n",
      "expanded_urls                 2093 non-null object\n",
      "rating_numerator              2096 non-null object\n",
      "rating_denominator            2096 non-null int64\n",
      "name                          1389 non-null object\n",
      "doggo                         2096 non-null category\n",
      "floofer                       2096 non-null category\n",
      "pupper                        2096 non-null category\n",
      "puppo                         2096 non-null category\n",
      "dtypes: category(4), datetime64[ns](1), float64(4), int64(2), object(6)\n",
      "memory usage: 237.8+ KB\n"
     ]
    }
   ],
   "source": [
    "tweets_archive_clean.info()"
   ]
  },
  {
   "cell_type": "code",
   "execution_count": null,
   "metadata": {},
   "outputs": [],
   "source": []
  },
  {
   "cell_type": "code",
   "execution_count": null,
   "metadata": {},
   "outputs": [],
   "source": []
  },
  {
   "cell_type": "code",
   "execution_count": null,
   "metadata": {},
   "outputs": [],
   "source": []
  },
  {
   "cell_type": "code",
   "execution_count": null,
   "metadata": {},
   "outputs": [],
   "source": []
  },
  {
   "cell_type": "code",
   "execution_count": null,
   "metadata": {},
   "outputs": [],
   "source": []
  },
  {
   "cell_type": "code",
   "execution_count": null,
   "metadata": {},
   "outputs": [],
   "source": []
  },
  {
   "cell_type": "code",
   "execution_count": null,
   "metadata": {},
   "outputs": [],
   "source": []
  },
  {
   "cell_type": "code",
   "execution_count": null,
   "metadata": {},
   "outputs": [],
   "source": []
  },
  {
   "cell_type": "code",
   "execution_count": null,
   "metadata": {},
   "outputs": [],
   "source": []
  },
  {
   "cell_type": "code",
   "execution_count": null,
   "metadata": {},
   "outputs": [],
   "source": []
  }
 ],
 "metadata": {
  "kernelspec": {
   "display_name": "Python 3",
   "language": "python",
   "name": "python3"
  },
  "language_info": {
   "codemirror_mode": {
    "name": "ipython",
    "version": 3
   },
   "file_extension": ".py",
   "mimetype": "text/x-python",
   "name": "python",
   "nbconvert_exporter": "python",
   "pygments_lexer": "ipython3",
   "version": "3.6.6"
  }
 },
 "nbformat": 4,
 "nbformat_minor": 2
}
